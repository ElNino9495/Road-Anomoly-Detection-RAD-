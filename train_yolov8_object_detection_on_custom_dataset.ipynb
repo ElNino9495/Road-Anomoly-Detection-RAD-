{
  "cells": [
    {
      "cell_type": "code",
      "execution_count": null,
      "metadata": {
        "id": "tUkOt_oyIiZo",
        "colab": {
          "base_uri": "https://localhost:8080/"
        },
        "outputId": "1c3a3d20-e910-4f8e-b7bd-f66bec6aaaf3"
      },
      "outputs": [
        {
          "output_type": "stream",
          "name": "stdout",
          "text": [
            "Mounted at /content/drive\n"
          ]
        }
      ],
      "source": [
        "from google.colab import drive\n",
        "drive.mount('/content/drive')"
      ]
    },
    {
      "cell_type": "code",
      "execution_count": null,
      "metadata": {
        "colab": {
          "base_uri": "https://localhost:8080/"
        },
        "id": "Y8cDtxLIBHgQ",
        "outputId": "3fe154fd-8a0c-422b-b599-168bd365d2e8"
      },
      "outputs": [
        {
          "output_type": "stream",
          "name": "stdout",
          "text": [
            "Fri Aug 18 07:55:30 2023       \n",
            "+-----------------------------------------------------------------------------+\n",
            "| NVIDIA-SMI 525.105.17   Driver Version: 525.105.17   CUDA Version: 12.0     |\n",
            "|-------------------------------+----------------------+----------------------+\n",
            "| GPU  Name        Persistence-M| Bus-Id        Disp.A | Volatile Uncorr. ECC |\n",
            "| Fan  Temp  Perf  Pwr:Usage/Cap|         Memory-Usage | GPU-Util  Compute M. |\n",
            "|                               |                      |               MIG M. |\n",
            "|===============================+======================+======================|\n",
            "|   0  Tesla T4            Off  | 00000000:00:04.0 Off |                    0 |\n",
            "| N/A   59C    P8    10W /  70W |      0MiB / 15360MiB |      0%      Default |\n",
            "|                               |                      |                  N/A |\n",
            "+-------------------------------+----------------------+----------------------+\n",
            "                                                                               \n",
            "+-----------------------------------------------------------------------------+\n",
            "| Processes:                                                                  |\n",
            "|  GPU   GI   CI        PID   Type   Process name                  GPU Memory |\n",
            "|        ID   ID                                                   Usage      |\n",
            "|=============================================================================|\n",
            "|  No running processes found                                                 |\n",
            "+-----------------------------------------------------------------------------+\n"
          ]
        }
      ],
      "source": [
        "!nvidia-smi"
      ]
    },
    {
      "cell_type": "code",
      "execution_count": null,
      "metadata": {
        "colab": {
          "base_uri": "https://localhost:8080/"
        },
        "id": "CjpPg4mGKc1v",
        "outputId": "350fede8-802e-407d-b2dd-803a6d350f03"
      },
      "outputs": [
        {
          "output_type": "stream",
          "name": "stdout",
          "text": [
            "/content\n"
          ]
        }
      ],
      "source": [
        "import os\n",
        "HOME = os.getcwd()\n",
        "print(HOME)"
      ]
    },
    {
      "cell_type": "markdown",
      "metadata": {
        "id": "3C3EO_2zNChu"
      },
      "source": [
        "## Install YOLOv8\n",
        "\n",
        "⚠️ YOLOv8 is still under heavy development. Breaking changes are being introduced almost weekly. We strive to make our YOLOv8 notebooks work with the latest version of the library. Last tests took place on **27.01.2023** with version **YOLOv8.0.20**.\n",
        "\n",
        "If you notice that our notebook behaves incorrectly - especially if you experience errors that prevent you from going through the tutorial - don't hesitate! Let us know and open an [issue](https://github.com/roboflow/notebooks/issues) on the Roboflow Notebooks repository.\n",
        "\n",
        "YOLOv8 can be installed in two ways - from the source and via pip. This is because it is the first iteration of YOLO to have an official package."
      ]
    },
    {
      "cell_type": "code",
      "execution_count": null,
      "metadata": {
        "colab": {
          "base_uri": "https://localhost:8080/"
        },
        "id": "tdSMcABDNKW-",
        "outputId": "e89228ee-5981-4b98-dfd3-3bf64a9af063"
      },
      "outputs": [
        {
          "output_type": "stream",
          "name": "stderr",
          "text": [
            "Ultralytics YOLOv8.0.20 🚀 Python-3.10.12 torch-2.0.1+cu118 CUDA:0 (Tesla T4, 15102MiB)\n",
            "Setup complete ✅ (2 CPUs, 12.7 GB RAM, 26.3/78.2 GB disk)\n"
          ]
        }
      ],
      "source": [
        "# Pip install method (recommended)\n",
        "\n",
        "!pip install ultralytics==8.0.20\n",
        "\n",
        "from IPython import display\n",
        "display.clear_output()\n",
        "\n",
        "import ultralytics\n",
        "ultralytics.checks()"
      ]
    },
    {
      "cell_type": "code",
      "source": [
        "# Git clone method (for development)\n",
        "\n",
        "%cd {HOME}\n",
        "!git clone https://github.com/ElNino9495/depth_estimation_yolo_v8.git\n",
        "%cd {HOME}/ultralytics\n",
        "!pip install -e .\n",
        "\n",
        "from IPython import display\n",
        "display.clear_output()\n",
        "\n"
      ],
      "metadata": {
        "id": "dJzhgUIal-dH"
      },
      "execution_count": null,
      "outputs": []
    },
    {
      "cell_type": "markdown",
      "metadata": {
        "id": "YUjFBKKqXa-u"
      },
      "source": [
        "## Custom Training"
      ]
    },
    {
      "cell_type": "code",
      "execution_count": null,
      "metadata": {
        "colab": {
          "base_uri": "https://localhost:8080/"
        },
        "id": "D2YkphuiaE7_",
        "outputId": "629be5bd-cf55-408c-b42e-32c260ffc3ba"
      },
      "outputs": [
        {
          "output_type": "stream",
          "name": "stdout",
          "text": [
            "/content\n",
            "Downloading https://github.com/ultralytics/assets/releases/download/v0.0.0/yolov8s.pt to yolov8s.pt...\n",
            " 27% 5.79M/21.5M [00:00<00:00, 17.5MB/s]\n",
            "ERROR: Downloaded file 'yolov8s.pt' does not exist or size is < min_bytes=100000.0\n",
            "yolov8s.pt missing, try downloading from https://github.com/ultralytics/assets/releases/v0.0.0\n",
            "\n",
            "Traceback (most recent call last):\n",
            "  File \"/usr/local/bin/yolo\", line 8, in <module>\n",
            "    sys.exit(entrypoint())\n",
            "  File \"/usr/local/lib/python3.10/dist-packages/ultralytics/yolo/cfg/__init__.py\", line 230, in entrypoint\n",
            "    model = YOLO(model)\n",
            "  File \"/usr/local/lib/python3.10/dist-packages/ultralytics/yolo/engine/model.py\", line 60, in __init__\n",
            "    {'.pt': self._load, '.yaml': self._new}[suffix](model)\n",
            "  File \"/usr/local/lib/python3.10/dist-packages/ultralytics/yolo/engine/model.py\", line 90, in _load\n",
            "    self.model, self.ckpt = attempt_load_one_weight(weights)\n",
            "  File \"/usr/local/lib/python3.10/dist-packages/ultralytics/nn/tasks.py\", line 384, in attempt_load_one_weight\n",
            "    ckpt = torch_safe_load(weight)  # load ckpt\n",
            "  File \"/usr/local/lib/python3.10/dist-packages/ultralytics/nn/tasks.py\", line 330, in torch_safe_load\n",
            "    file = attempt_download(weight)  # search online if missing locally\n",
            "  File \"/usr/local/lib/python3.10/dist-packages/ultralytics/yolo/utils/downloads.py\", line 94, in attempt_download\n",
            "    safe_download(file,\n",
            "  File \"/usr/local/lib/python3.10/dist-packages/ultralytics/yolo/utils/downloads.py\", line 24, in safe_download\n",
            "    torch.hub.download_url_to_file(url, str(file), progress=LOGGER.level <= logging.INFO)\n",
            "  File \"/usr/local/lib/python3.10/dist-packages/torch/hub.py\", line 633, in download_url_to_file\n",
            "    buffer = u.read(8192)\n",
            "  File \"/usr/lib/python3.10/http/client.py\", line 466, in read\n",
            "    s = self.fp.read(amt)\n",
            "  File \"/usr/lib/python3.10/socket.py\", line 705, in readinto\n",
            "    return self._sock.recv_into(b)\n",
            "  File \"/usr/lib/python3.10/ssl.py\", line 1274, in recv_into\n",
            "    return self.read(nbytes, buffer)\n",
            "  File \"/usr/lib/python3.10/ssl.py\", line 1130, in read\n",
            "    return self._sslobj.read(len, buffer)\n",
            "KeyboardInterrupt\n",
            "^C\n"
          ]
        }
      ],
      "source": [
        "%cd {HOME}\n",
        "\n",
        "!yolo task=detect mode=train model=yolov8s.pt data={dataset.location}/data.yaml epochs=50 imgsz=800 plots=True"
      ]
    },
    {
      "cell_type": "code",
      "execution_count": null,
      "metadata": {
        "colab": {
          "base_uri": "https://localhost:8080/"
        },
        "id": "1MScstfHhArr",
        "outputId": "b30134e7-5a64-4aa9-83cc-6cfd6ad8f64e"
      },
      "outputs": [
        {
          "name": "stdout",
          "output_type": "stream",
          "text": [
            "args.yaml\t\t\t\t\t    train_batch2.jpg\n",
            "confusion_matrix.png\t\t\t\t    train_batch4760.jpg\n",
            "events.out.tfevents.1687849397.075c838c728e.1856.0  train_batch4761.jpg\n",
            "F1_curve.png\t\t\t\t\t    train_batch4762.jpg\n",
            "P_curve.png\t\t\t\t\t    val_batch0_labels.jpg\n",
            "PR_curve.png\t\t\t\t\t    val_batch0_pred.jpg\n",
            "R_curve.png\t\t\t\t\t    val_batch1_labels.jpg\n",
            "results.csv\t\t\t\t\t    val_batch1_pred.jpg\n",
            "results.png\t\t\t\t\t    val_batch2_labels.jpg\n",
            "train_batch0.jpg\t\t\t\t    val_batch2_pred.jpg\n",
            "train_batch1.jpg\t\t\t\t    weights\n"
          ]
        }
      ],
      "source": [
        "!ls {HOME}/runs/detect/train/"
      ]
    },
    {
      "cell_type": "code",
      "execution_count": null,
      "metadata": {
        "id": "pClgw56Kftwe"
      },
      "outputs": [],
      "source": [
        "import glob\n",
        "from IPython.display import Image, display"
      ]
    },
    {
      "cell_type": "code",
      "execution_count": null,
      "metadata": {
        "colab": {
          "base_uri": "https://localhost:8080/",
          "height": 345
        },
        "id": "_J35i8Ofhjxa",
        "outputId": "f6e3e600-fa47-4f44-d6cc-1d1099897d53"
      },
      "outputs": [
        {
          "name": "stdout",
          "output_type": "stream",
          "text": [
            "/content\n"
          ]
        },
        {
          "ename": "FileNotFoundError",
          "evalue": "ignored",
          "output_type": "error",
          "traceback": [
            "\u001b[0;31m---------------------------------------------------------------------------\u001b[0m",
            "\u001b[0;31mFileNotFoundError\u001b[0m                         Traceback (most recent call last)",
            "\u001b[0;32m<ipython-input-10-0e8dcce2b46f>\u001b[0m in \u001b[0;36m<cell line: 2>\u001b[0;34m()\u001b[0m\n\u001b[1;32m      1\u001b[0m \u001b[0mget_ipython\u001b[0m\u001b[0;34m(\u001b[0m\u001b[0;34m)\u001b[0m\u001b[0;34m.\u001b[0m\u001b[0mrun_line_magic\u001b[0m\u001b[0;34m(\u001b[0m\u001b[0;34m'cd'\u001b[0m\u001b[0;34m,\u001b[0m \u001b[0;34m'{HOME}'\u001b[0m\u001b[0;34m)\u001b[0m\u001b[0;34m\u001b[0m\u001b[0;34m\u001b[0m\u001b[0m\n\u001b[0;32m----> 2\u001b[0;31m \u001b[0mImage\u001b[0m\u001b[0;34m(\u001b[0m\u001b[0mfilename\u001b[0m\u001b[0;34m=\u001b[0m\u001b[0;34mf'{HOME}/runs/detect/train/confusion_matrix.png'\u001b[0m\u001b[0;34m,\u001b[0m \u001b[0mwidth\u001b[0m\u001b[0;34m=\u001b[0m\u001b[0;36m600\u001b[0m\u001b[0;34m)\u001b[0m\u001b[0;34m\u001b[0m\u001b[0;34m\u001b[0m\u001b[0m\n\u001b[0m",
            "\u001b[0;32m/usr/local/lib/python3.10/dist-packages/IPython/core/display.py\u001b[0m in \u001b[0;36m__init__\u001b[0;34m(self, data, url, filename, format, embed, width, height, retina, unconfined, metadata)\u001b[0m\n\u001b[1;32m   1229\u001b[0m         \u001b[0mself\u001b[0m\u001b[0;34m.\u001b[0m\u001b[0mretina\u001b[0m \u001b[0;34m=\u001b[0m \u001b[0mretina\u001b[0m\u001b[0;34m\u001b[0m\u001b[0;34m\u001b[0m\u001b[0m\n\u001b[1;32m   1230\u001b[0m         \u001b[0mself\u001b[0m\u001b[0;34m.\u001b[0m\u001b[0munconfined\u001b[0m \u001b[0;34m=\u001b[0m \u001b[0munconfined\u001b[0m\u001b[0;34m\u001b[0m\u001b[0;34m\u001b[0m\u001b[0m\n\u001b[0;32m-> 1231\u001b[0;31m         super(Image, self).__init__(data=data, url=url, filename=filename, \n\u001b[0m\u001b[1;32m   1232\u001b[0m                 metadata=metadata)\n\u001b[1;32m   1233\u001b[0m \u001b[0;34m\u001b[0m\u001b[0m\n",
            "\u001b[0;32m/usr/local/lib/python3.10/dist-packages/IPython/core/display.py\u001b[0m in \u001b[0;36m__init__\u001b[0;34m(self, data, url, filename, metadata)\u001b[0m\n\u001b[1;32m    635\u001b[0m             \u001b[0mself\u001b[0m\u001b[0;34m.\u001b[0m\u001b[0mmetadata\u001b[0m \u001b[0;34m=\u001b[0m \u001b[0;34m{\u001b[0m\u001b[0;34m}\u001b[0m\u001b[0;34m\u001b[0m\u001b[0;34m\u001b[0m\u001b[0m\n\u001b[1;32m    636\u001b[0m \u001b[0;34m\u001b[0m\u001b[0m\n\u001b[0;32m--> 637\u001b[0;31m         \u001b[0mself\u001b[0m\u001b[0;34m.\u001b[0m\u001b[0mreload\u001b[0m\u001b[0;34m(\u001b[0m\u001b[0;34m)\u001b[0m\u001b[0;34m\u001b[0m\u001b[0;34m\u001b[0m\u001b[0m\n\u001b[0m\u001b[1;32m    638\u001b[0m         \u001b[0mself\u001b[0m\u001b[0;34m.\u001b[0m\u001b[0m_check_data\u001b[0m\u001b[0;34m(\u001b[0m\u001b[0;34m)\u001b[0m\u001b[0;34m\u001b[0m\u001b[0;34m\u001b[0m\u001b[0m\n\u001b[1;32m    639\u001b[0m \u001b[0;34m\u001b[0m\u001b[0m\n",
            "\u001b[0;32m/usr/local/lib/python3.10/dist-packages/IPython/core/display.py\u001b[0m in \u001b[0;36mreload\u001b[0;34m(self)\u001b[0m\n\u001b[1;32m   1261\u001b[0m         \u001b[0;34m\"\"\"Reload the raw data from file or URL.\"\"\"\u001b[0m\u001b[0;34m\u001b[0m\u001b[0;34m\u001b[0m\u001b[0m\n\u001b[1;32m   1262\u001b[0m         \u001b[0;32mif\u001b[0m \u001b[0mself\u001b[0m\u001b[0;34m.\u001b[0m\u001b[0membed\u001b[0m\u001b[0;34m:\u001b[0m\u001b[0;34m\u001b[0m\u001b[0;34m\u001b[0m\u001b[0m\n\u001b[0;32m-> 1263\u001b[0;31m             \u001b[0msuper\u001b[0m\u001b[0;34m(\u001b[0m\u001b[0mImage\u001b[0m\u001b[0;34m,\u001b[0m\u001b[0mself\u001b[0m\u001b[0;34m)\u001b[0m\u001b[0;34m.\u001b[0m\u001b[0mreload\u001b[0m\u001b[0;34m(\u001b[0m\u001b[0;34m)\u001b[0m\u001b[0;34m\u001b[0m\u001b[0;34m\u001b[0m\u001b[0m\n\u001b[0m\u001b[1;32m   1264\u001b[0m             \u001b[0;32mif\u001b[0m \u001b[0mself\u001b[0m\u001b[0;34m.\u001b[0m\u001b[0mretina\u001b[0m\u001b[0;34m:\u001b[0m\u001b[0;34m\u001b[0m\u001b[0;34m\u001b[0m\u001b[0m\n\u001b[1;32m   1265\u001b[0m                 \u001b[0mself\u001b[0m\u001b[0;34m.\u001b[0m\u001b[0m_retina_shape\u001b[0m\u001b[0;34m(\u001b[0m\u001b[0;34m)\u001b[0m\u001b[0;34m\u001b[0m\u001b[0;34m\u001b[0m\u001b[0m\n",
            "\u001b[0;32m/usr/local/lib/python3.10/dist-packages/IPython/core/display.py\u001b[0m in \u001b[0;36mreload\u001b[0;34m(self)\u001b[0m\n\u001b[1;32m    660\u001b[0m         \u001b[0;34m\"\"\"Reload the raw data from file or URL.\"\"\"\u001b[0m\u001b[0;34m\u001b[0m\u001b[0;34m\u001b[0m\u001b[0m\n\u001b[1;32m    661\u001b[0m         \u001b[0;32mif\u001b[0m \u001b[0mself\u001b[0m\u001b[0;34m.\u001b[0m\u001b[0mfilename\u001b[0m \u001b[0;32mis\u001b[0m \u001b[0;32mnot\u001b[0m \u001b[0;32mNone\u001b[0m\u001b[0;34m:\u001b[0m\u001b[0;34m\u001b[0m\u001b[0;34m\u001b[0m\u001b[0m\n\u001b[0;32m--> 662\u001b[0;31m             \u001b[0;32mwith\u001b[0m \u001b[0mopen\u001b[0m\u001b[0;34m(\u001b[0m\u001b[0mself\u001b[0m\u001b[0;34m.\u001b[0m\u001b[0mfilename\u001b[0m\u001b[0;34m,\u001b[0m \u001b[0mself\u001b[0m\u001b[0;34m.\u001b[0m\u001b[0m_read_flags\u001b[0m\u001b[0;34m)\u001b[0m \u001b[0;32mas\u001b[0m \u001b[0mf\u001b[0m\u001b[0;34m:\u001b[0m\u001b[0;34m\u001b[0m\u001b[0;34m\u001b[0m\u001b[0m\n\u001b[0m\u001b[1;32m    663\u001b[0m                 \u001b[0mself\u001b[0m\u001b[0;34m.\u001b[0m\u001b[0mdata\u001b[0m \u001b[0;34m=\u001b[0m \u001b[0mf\u001b[0m\u001b[0;34m.\u001b[0m\u001b[0mread\u001b[0m\u001b[0;34m(\u001b[0m\u001b[0;34m)\u001b[0m\u001b[0;34m\u001b[0m\u001b[0;34m\u001b[0m\u001b[0m\n\u001b[1;32m    664\u001b[0m         \u001b[0;32melif\u001b[0m \u001b[0mself\u001b[0m\u001b[0;34m.\u001b[0m\u001b[0murl\u001b[0m \u001b[0;32mis\u001b[0m \u001b[0;32mnot\u001b[0m \u001b[0;32mNone\u001b[0m\u001b[0;34m:\u001b[0m\u001b[0;34m\u001b[0m\u001b[0;34m\u001b[0m\u001b[0m\n",
            "\u001b[0;31mFileNotFoundError\u001b[0m: [Errno 2] No such file or directory: '/content/runs/detect/train/confusion_matrix.png'"
          ]
        }
      ],
      "source": [
        "%cd {HOME}\n",
        "Image(filename=f'{HOME}/runs/detect/train/confusion_matrix.png', width=600)"
      ]
    },
    {
      "cell_type": "code",
      "execution_count": null,
      "metadata": {
        "colab": {
          "base_uri": "https://localhost:8080/",
          "height": 345
        },
        "id": "A-urTWUkhRmn",
        "outputId": "46d5be4a-1d49-4f99-917d-07d1f9040d6b"
      },
      "outputs": [
        {
          "name": "stdout",
          "output_type": "stream",
          "text": [
            "/content\n"
          ]
        },
        {
          "ename": "FileNotFoundError",
          "evalue": "ignored",
          "output_type": "error",
          "traceback": [
            "\u001b[0;31m---------------------------------------------------------------------------\u001b[0m",
            "\u001b[0;31mFileNotFoundError\u001b[0m                         Traceback (most recent call last)",
            "\u001b[0;32m<ipython-input-11-6e20faae5f1e>\u001b[0m in \u001b[0;36m<cell line: 2>\u001b[0;34m()\u001b[0m\n\u001b[1;32m      1\u001b[0m \u001b[0mget_ipython\u001b[0m\u001b[0;34m(\u001b[0m\u001b[0;34m)\u001b[0m\u001b[0;34m.\u001b[0m\u001b[0mrun_line_magic\u001b[0m\u001b[0;34m(\u001b[0m\u001b[0;34m'cd'\u001b[0m\u001b[0;34m,\u001b[0m \u001b[0;34m'{HOME}'\u001b[0m\u001b[0;34m)\u001b[0m\u001b[0;34m\u001b[0m\u001b[0;34m\u001b[0m\u001b[0m\n\u001b[0;32m----> 2\u001b[0;31m \u001b[0mImage\u001b[0m\u001b[0;34m(\u001b[0m\u001b[0mfilename\u001b[0m\u001b[0;34m=\u001b[0m\u001b[0;34mf'{HOME}/runs/detect/train/results.png'\u001b[0m\u001b[0;34m,\u001b[0m \u001b[0mwidth\u001b[0m\u001b[0;34m=\u001b[0m\u001b[0;36m600\u001b[0m\u001b[0;34m)\u001b[0m\u001b[0;34m\u001b[0m\u001b[0;34m\u001b[0m\u001b[0m\n\u001b[0m",
            "\u001b[0;32m/usr/local/lib/python3.10/dist-packages/IPython/core/display.py\u001b[0m in \u001b[0;36m__init__\u001b[0;34m(self, data, url, filename, format, embed, width, height, retina, unconfined, metadata)\u001b[0m\n\u001b[1;32m   1229\u001b[0m         \u001b[0mself\u001b[0m\u001b[0;34m.\u001b[0m\u001b[0mretina\u001b[0m \u001b[0;34m=\u001b[0m \u001b[0mretina\u001b[0m\u001b[0;34m\u001b[0m\u001b[0;34m\u001b[0m\u001b[0m\n\u001b[1;32m   1230\u001b[0m         \u001b[0mself\u001b[0m\u001b[0;34m.\u001b[0m\u001b[0munconfined\u001b[0m \u001b[0;34m=\u001b[0m \u001b[0munconfined\u001b[0m\u001b[0;34m\u001b[0m\u001b[0;34m\u001b[0m\u001b[0m\n\u001b[0;32m-> 1231\u001b[0;31m         super(Image, self).__init__(data=data, url=url, filename=filename, \n\u001b[0m\u001b[1;32m   1232\u001b[0m                 metadata=metadata)\n\u001b[1;32m   1233\u001b[0m \u001b[0;34m\u001b[0m\u001b[0m\n",
            "\u001b[0;32m/usr/local/lib/python3.10/dist-packages/IPython/core/display.py\u001b[0m in \u001b[0;36m__init__\u001b[0;34m(self, data, url, filename, metadata)\u001b[0m\n\u001b[1;32m    635\u001b[0m             \u001b[0mself\u001b[0m\u001b[0;34m.\u001b[0m\u001b[0mmetadata\u001b[0m \u001b[0;34m=\u001b[0m \u001b[0;34m{\u001b[0m\u001b[0;34m}\u001b[0m\u001b[0;34m\u001b[0m\u001b[0;34m\u001b[0m\u001b[0m\n\u001b[1;32m    636\u001b[0m \u001b[0;34m\u001b[0m\u001b[0m\n\u001b[0;32m--> 637\u001b[0;31m         \u001b[0mself\u001b[0m\u001b[0;34m.\u001b[0m\u001b[0mreload\u001b[0m\u001b[0;34m(\u001b[0m\u001b[0;34m)\u001b[0m\u001b[0;34m\u001b[0m\u001b[0;34m\u001b[0m\u001b[0m\n\u001b[0m\u001b[1;32m    638\u001b[0m         \u001b[0mself\u001b[0m\u001b[0;34m.\u001b[0m\u001b[0m_check_data\u001b[0m\u001b[0;34m(\u001b[0m\u001b[0;34m)\u001b[0m\u001b[0;34m\u001b[0m\u001b[0;34m\u001b[0m\u001b[0m\n\u001b[1;32m    639\u001b[0m \u001b[0;34m\u001b[0m\u001b[0m\n",
            "\u001b[0;32m/usr/local/lib/python3.10/dist-packages/IPython/core/display.py\u001b[0m in \u001b[0;36mreload\u001b[0;34m(self)\u001b[0m\n\u001b[1;32m   1261\u001b[0m         \u001b[0;34m\"\"\"Reload the raw data from file or URL.\"\"\"\u001b[0m\u001b[0;34m\u001b[0m\u001b[0;34m\u001b[0m\u001b[0m\n\u001b[1;32m   1262\u001b[0m         \u001b[0;32mif\u001b[0m \u001b[0mself\u001b[0m\u001b[0;34m.\u001b[0m\u001b[0membed\u001b[0m\u001b[0;34m:\u001b[0m\u001b[0;34m\u001b[0m\u001b[0;34m\u001b[0m\u001b[0m\n\u001b[0;32m-> 1263\u001b[0;31m             \u001b[0msuper\u001b[0m\u001b[0;34m(\u001b[0m\u001b[0mImage\u001b[0m\u001b[0;34m,\u001b[0m\u001b[0mself\u001b[0m\u001b[0;34m)\u001b[0m\u001b[0;34m.\u001b[0m\u001b[0mreload\u001b[0m\u001b[0;34m(\u001b[0m\u001b[0;34m)\u001b[0m\u001b[0;34m\u001b[0m\u001b[0;34m\u001b[0m\u001b[0m\n\u001b[0m\u001b[1;32m   1264\u001b[0m             \u001b[0;32mif\u001b[0m \u001b[0mself\u001b[0m\u001b[0;34m.\u001b[0m\u001b[0mretina\u001b[0m\u001b[0;34m:\u001b[0m\u001b[0;34m\u001b[0m\u001b[0;34m\u001b[0m\u001b[0m\n\u001b[1;32m   1265\u001b[0m                 \u001b[0mself\u001b[0m\u001b[0;34m.\u001b[0m\u001b[0m_retina_shape\u001b[0m\u001b[0;34m(\u001b[0m\u001b[0;34m)\u001b[0m\u001b[0;34m\u001b[0m\u001b[0;34m\u001b[0m\u001b[0m\n",
            "\u001b[0;32m/usr/local/lib/python3.10/dist-packages/IPython/core/display.py\u001b[0m in \u001b[0;36mreload\u001b[0;34m(self)\u001b[0m\n\u001b[1;32m    660\u001b[0m         \u001b[0;34m\"\"\"Reload the raw data from file or URL.\"\"\"\u001b[0m\u001b[0;34m\u001b[0m\u001b[0;34m\u001b[0m\u001b[0m\n\u001b[1;32m    661\u001b[0m         \u001b[0;32mif\u001b[0m \u001b[0mself\u001b[0m\u001b[0;34m.\u001b[0m\u001b[0mfilename\u001b[0m \u001b[0;32mis\u001b[0m \u001b[0;32mnot\u001b[0m \u001b[0;32mNone\u001b[0m\u001b[0;34m:\u001b[0m\u001b[0;34m\u001b[0m\u001b[0;34m\u001b[0m\u001b[0m\n\u001b[0;32m--> 662\u001b[0;31m             \u001b[0;32mwith\u001b[0m \u001b[0mopen\u001b[0m\u001b[0;34m(\u001b[0m\u001b[0mself\u001b[0m\u001b[0;34m.\u001b[0m\u001b[0mfilename\u001b[0m\u001b[0;34m,\u001b[0m \u001b[0mself\u001b[0m\u001b[0;34m.\u001b[0m\u001b[0m_read_flags\u001b[0m\u001b[0;34m)\u001b[0m \u001b[0;32mas\u001b[0m \u001b[0mf\u001b[0m\u001b[0;34m:\u001b[0m\u001b[0;34m\u001b[0m\u001b[0;34m\u001b[0m\u001b[0m\n\u001b[0m\u001b[1;32m    663\u001b[0m                 \u001b[0mself\u001b[0m\u001b[0;34m.\u001b[0m\u001b[0mdata\u001b[0m \u001b[0;34m=\u001b[0m \u001b[0mf\u001b[0m\u001b[0;34m.\u001b[0m\u001b[0mread\u001b[0m\u001b[0;34m(\u001b[0m\u001b[0;34m)\u001b[0m\u001b[0;34m\u001b[0m\u001b[0;34m\u001b[0m\u001b[0m\n\u001b[1;32m    664\u001b[0m         \u001b[0;32melif\u001b[0m \u001b[0mself\u001b[0m\u001b[0;34m.\u001b[0m\u001b[0murl\u001b[0m \u001b[0;32mis\u001b[0m \u001b[0;32mnot\u001b[0m \u001b[0;32mNone\u001b[0m\u001b[0;34m:\u001b[0m\u001b[0;34m\u001b[0m\u001b[0;34m\u001b[0m\u001b[0m\n",
            "\u001b[0;31mFileNotFoundError\u001b[0m: [Errno 2] No such file or directory: '/content/runs/detect/train/results.png'"
          ]
        }
      ],
      "source": [
        "%cd {HOME}\n",
        "Image(filename=f'{HOME}/runs/detect/train/results.png', width=600)"
      ]
    },
    {
      "cell_type": "code",
      "execution_count": null,
      "metadata": {
        "colab": {
          "base_uri": "https://localhost:8080/",
          "height": 201
        },
        "id": "HI4nADCCj3F5",
        "outputId": "1d749cb8-a77f-4e21-e8ce-3b86345cc16b"
      },
      "outputs": [
        {
          "name": "stdout",
          "output_type": "stream",
          "text": [
            "/content\n"
          ]
        },
        {
          "ename": "TypeError",
          "evalue": "ignored",
          "output_type": "error",
          "traceback": [
            "\u001b[0;31m---------------------------------------------------------------------------\u001b[0m",
            "\u001b[0;31mTypeError\u001b[0m                                 Traceback (most recent call last)",
            "\u001b[0;32m<ipython-input-19-76441e6b8617>\u001b[0m in \u001b[0;36m<cell line: 2>\u001b[0;34m()\u001b[0m\n\u001b[1;32m      1\u001b[0m \u001b[0mget_ipython\u001b[0m\u001b[0;34m(\u001b[0m\u001b[0;34m)\u001b[0m\u001b[0;34m.\u001b[0m\u001b[0mrun_line_magic\u001b[0m\u001b[0;34m(\u001b[0m\u001b[0;34m'cd'\u001b[0m\u001b[0;34m,\u001b[0m \u001b[0;34m'{HOME}'\u001b[0m\u001b[0;34m)\u001b[0m\u001b[0;34m\u001b[0m\u001b[0;34m\u001b[0m\u001b[0m\n\u001b[0;32m----> 2\u001b[0;31m \u001b[0mImage\u001b[0m\u001b[0;34m(\u001b[0m\u001b[0mfilename\u001b[0m\u001b[0;34m=\u001b[0m\u001b[0;34mf'{HOME}/runs/detect/train/val_batch0_pred.jpg'\u001b[0m\u001b[0;34m,\u001b[0m \u001b[0mwidth\u001b[0m\u001b[0;34m=\u001b[0m\u001b[0;36m600\u001b[0m\u001b[0;34m)\u001b[0m\u001b[0;34m\u001b[0m\u001b[0;34m\u001b[0m\u001b[0m\n\u001b[0m",
            "\u001b[0;31mTypeError\u001b[0m: 'module' object is not callable"
          ]
        }
      ],
      "source": [
        "%cd {HOME}\n",
        "Image(filename=f'{HOME}/runs/detect/train/val_batch0_pred.jpg', width=600)"
      ]
    },
    {
      "cell_type": "markdown",
      "metadata": {
        "id": "6ODk1VTlevxn"
      },
      "source": [
        "## Validate Custom Model"
      ]
    },
    {
      "cell_type": "code",
      "execution_count": null,
      "metadata": {
        "colab": {
          "base_uri": "https://localhost:8080/"
        },
        "id": "YpyuwrNlXc1P",
        "outputId": "7394028b-7f13-46f0-b75f-728b2f9f7672"
      },
      "outputs": [
        {
          "name": "stdout",
          "output_type": "stream",
          "text": [
            "Traceback (most recent call last):\n",
            "  File \"/usr/local/bin/yolo\", line 8, in <module>\n",
            "    sys.exit(entrypoint())\n",
            "  File \"/usr/local/lib/python3.10/dist-packages/ultralytics/yolo/cfg/__init__.py\", line 249, in entrypoint\n",
            "    getattr(model, mode)(verbose=True, **overrides)\n",
            "AttributeError: 'YOLO' object has no attribute 'test'. Did you mean: 'reset'?\n"
          ]
        }
      ],
      "source": [
        "\n",
        "\n",
        "!yolo task=detect mode=test model=/content/drive/MyDrive/p16-depth-estimation/runs/detect/train/weights/best.pt data=/content/drive/MyDrive/p16-depth-estimation/datasets/depth-estimation--4/data.yaml"
      ]
    },
    {
      "cell_type": "code",
      "execution_count": null,
      "metadata": {
        "id": "UvzXOtTYOZa0"
      },
      "outputs": [],
      "source": []
    },
    {
      "cell_type": "markdown",
      "metadata": {
        "id": "i4eASbcWkQBq"
      },
      "source": [
        "## Inference with Custom Model"
      ]
    },
    {
      "cell_type": "code",
      "execution_count": null,
      "metadata": {
        "colab": {
          "base_uri": "https://localhost:8080/"
        },
        "id": "Wjc1ctZykYuf",
        "outputId": "60b2410c-6854-44f8-fd68-dba8512e9c0e"
      },
      "outputs": [
        {
          "output_type": "stream",
          "name": "stdout",
          "text": [
            "[Errno 2] No such file or directory: '{HOME}'\n",
            "/content\n",
            "/bin/bash: yolo: command not found\n"
          ]
        }
      ],
      "source": [
        "%cd {HOME}\n",
        "!yolo task=detect mode=predict model=/content/drive/MyDrive/p16-depth-estimation/runs/detect/train/weights/best.pt conf=0.05 source=\"/content/drive/MyDrive/Depth Estimation Project/photos/pics\" save=True"
      ]
    },
    {
      "cell_type": "markdown",
      "metadata": {
        "id": "mEYIo95n-I0S"
      },
      "source": [
        "**NOTE:** Let's take a look at few results."
      ]
    },
    {
      "cell_type": "code",
      "execution_count": null,
      "metadata": {
        "id": "jbVjEtPAkz3j"
      },
      "outputs": [],
      "source": [
        "import glob\n",
        "from IPython.display import Image, display\n",
        "\n",
        "for image_path in glob.glob(\"/content/runs/detect/predict/*.jpg\"):\n",
        "      display(Image(filename=image_path, width=600))\n",
        "      print(\"\\n\")"
      ]
    },
    {
      "cell_type": "markdown",
      "metadata": {
        "id": "j0tsVilOCPyq"
      },
      "source": [
        "## Deploy model on Roboflow\n",
        "\n",
        "Once you have finished training your YOLOv8 model, you’ll have a set of trained weights ready for use. These weights will be in the `/runs/detect/train/weights/best.pt` folder of your project. You can upload your model weights to Roboflow Deploy to use your trained weights on our infinitely scalable infrastructure.\n",
        "\n",
        "The `.deploy()` function in the [Roboflow pip package](https://docs.roboflow.com/python) now supports uploading YOLOv8 weights.\n",
        "\n",
        "To upload model weights, add the following code to the “Inference with Custom Model” section in the aforementioned notebook:"
      ]
    },
    {
      "cell_type": "code",
      "execution_count": null,
      "metadata": {
        "colab": {
          "base_uri": "https://localhost:8080/"
        },
        "id": "6EhBAJ2gCPZh",
        "outputId": "6b980292-5a81-4b9d-abbb-77b53994d883"
      },
      "outputs": [
        {
          "name": "stdout",
          "output_type": "stream",
          "text": [
            "View the status of your deployment at: https://app.roboflow.com/p16-81bkd/depth-estimation/deploy/4\n",
            "Share your model with the world at: https://universe.roboflow.com/p16-81bkd/depth-estimation/model/4\n"
          ]
        }
      ],
      "source": [
        "project.version(dataset.version).deploy(model_type=\"yolov8\", model_path=f\"{HOME}/runs/detect/train/\")"
      ]
    },
    {
      "cell_type": "code",
      "execution_count": null,
      "metadata": {
        "id": "q5kOhjkmcV1l"
      },
      "outputs": [],
      "source": [
        "#While your deployment is processing, checkout the deployment docs to take your model to most destinations https://docs.roboflow.com/inference"
      ]
    },
    {
      "cell_type": "code",
      "execution_count": null,
      "metadata": {
        "colab": {
          "base_uri": "https://localhost:8080/",
          "height": 398
        },
        "id": "I4bpUIibcV1l",
        "outputId": "6a3fe89c-b982-4949-fb89-9c8f9ba0ad39"
      },
      "outputs": [
        {
          "name": "stdout",
          "output_type": "stream",
          "text": [
            "running inference on 25_13-06-2023_mp4-29_jpg.rf.4587040e4d2f6bedf47afe2c6f05ad15.jpg\n"
          ]
        },
        {
          "ename": "HTTPError",
          "evalue": "ignored",
          "output_type": "error",
          "traceback": [
            "\u001b[0;31m---------------------------------------------------------------------------\u001b[0m",
            "\u001b[0;31mHTTPError\u001b[0m                                 Traceback (most recent call last)",
            "\u001b[0;32m<ipython-input-18-1ba6ac5d9ae3>\u001b[0m in \u001b[0;36m<cell line: 12>\u001b[0;34m()\u001b[0m\n\u001b[1;32m     10\u001b[0m \u001b[0mprint\u001b[0m\u001b[0;34m(\u001b[0m\u001b[0;34m\"running inference on \"\u001b[0m \u001b[0;34m+\u001b[0m \u001b[0mrandom_test_image\u001b[0m\u001b[0;34m)\u001b[0m\u001b[0;34m\u001b[0m\u001b[0;34m\u001b[0m\u001b[0m\n\u001b[1;32m     11\u001b[0m \u001b[0;34m\u001b[0m\u001b[0m\n\u001b[0;32m---> 12\u001b[0;31m \u001b[0mpred\u001b[0m \u001b[0;34m=\u001b[0m \u001b[0mmodel\u001b[0m\u001b[0;34m.\u001b[0m\u001b[0mpredict\u001b[0m\u001b[0;34m(\u001b[0m\u001b[0mtest_set_loc\u001b[0m \u001b[0;34m+\u001b[0m \u001b[0mrandom_test_image\u001b[0m\u001b[0;34m,\u001b[0m \u001b[0mconfidence\u001b[0m\u001b[0;34m=\u001b[0m\u001b[0;36m40\u001b[0m\u001b[0;34m,\u001b[0m \u001b[0moverlap\u001b[0m\u001b[0;34m=\u001b[0m\u001b[0;36m30\u001b[0m\u001b[0;34m)\u001b[0m\u001b[0;34m.\u001b[0m\u001b[0mjson\u001b[0m\u001b[0;34m(\u001b[0m\u001b[0;34m)\u001b[0m\u001b[0;34m\u001b[0m\u001b[0;34m\u001b[0m\u001b[0m\n\u001b[0m\u001b[1;32m     13\u001b[0m \u001b[0mpred\u001b[0m\u001b[0;34m\u001b[0m\u001b[0;34m\u001b[0m\u001b[0m\n",
            "\u001b[0;32m/usr/local/lib/python3.10/dist-packages/roboflow/models/object_detection.py\u001b[0m in \u001b[0;36mpredict\u001b[0;34m(self, image_path, hosted, format, classes, overlap, confidence, stroke, labels)\u001b[0m\n\u001b[1;32m    218\u001b[0m             \u001b[0mresp\u001b[0m \u001b[0;34m=\u001b[0m \u001b[0mrequests\u001b[0m\u001b[0;34m.\u001b[0m\u001b[0mpost\u001b[0m\u001b[0;34m(\u001b[0m\u001b[0mself\u001b[0m\u001b[0;34m.\u001b[0m\u001b[0mapi_url\u001b[0m\u001b[0;34m)\u001b[0m\u001b[0;34m\u001b[0m\u001b[0;34m\u001b[0m\u001b[0m\n\u001b[1;32m    219\u001b[0m \u001b[0;34m\u001b[0m\u001b[0m\n\u001b[0;32m--> 220\u001b[0;31m         \u001b[0mresp\u001b[0m\u001b[0;34m.\u001b[0m\u001b[0mraise_for_status\u001b[0m\u001b[0;34m(\u001b[0m\u001b[0;34m)\u001b[0m\u001b[0;34m\u001b[0m\u001b[0;34m\u001b[0m\u001b[0m\n\u001b[0m\u001b[1;32m    221\u001b[0m         \u001b[0;31m# Return a prediction group if JSON data\u001b[0m\u001b[0;34m\u001b[0m\u001b[0;34m\u001b[0m\u001b[0m\n\u001b[1;32m    222\u001b[0m         \u001b[0;32mif\u001b[0m \u001b[0mself\u001b[0m\u001b[0;34m.\u001b[0m\u001b[0mformat\u001b[0m \u001b[0;34m==\u001b[0m \u001b[0;34m\"json\"\u001b[0m\u001b[0;34m:\u001b[0m\u001b[0;34m\u001b[0m\u001b[0;34m\u001b[0m\u001b[0m\n",
            "\u001b[0;32m/usr/local/lib/python3.10/dist-packages/requests/models.py\u001b[0m in \u001b[0;36mraise_for_status\u001b[0;34m(self)\u001b[0m\n\u001b[1;32m    958\u001b[0m \u001b[0;34m\u001b[0m\u001b[0m\n\u001b[1;32m    959\u001b[0m         \u001b[0;32mif\u001b[0m \u001b[0mhttp_error_msg\u001b[0m\u001b[0;34m:\u001b[0m\u001b[0;34m\u001b[0m\u001b[0;34m\u001b[0m\u001b[0m\n\u001b[0;32m--> 960\u001b[0;31m             \u001b[0;32mraise\u001b[0m \u001b[0mHTTPError\u001b[0m\u001b[0;34m(\u001b[0m\u001b[0mhttp_error_msg\u001b[0m\u001b[0;34m,\u001b[0m \u001b[0mresponse\u001b[0m\u001b[0;34m=\u001b[0m\u001b[0mself\u001b[0m\u001b[0;34m)\u001b[0m\u001b[0;34m\u001b[0m\u001b[0;34m\u001b[0m\u001b[0m\n\u001b[0m\u001b[1;32m    961\u001b[0m \u001b[0;34m\u001b[0m\u001b[0m\n\u001b[1;32m    962\u001b[0m     \u001b[0;32mdef\u001b[0m \u001b[0mclose\u001b[0m\u001b[0;34m(\u001b[0m\u001b[0mself\u001b[0m\u001b[0;34m)\u001b[0m\u001b[0;34m:\u001b[0m\u001b[0;34m\u001b[0m\u001b[0;34m\u001b[0m\u001b[0m\n",
            "\u001b[0;31mHTTPError\u001b[0m: 403 Client Error: Forbidden for url: https://detect.roboflow.com/depth-estimation/4?api_key=VLWKG2vaPiMJZtz8AnjR&name=YOUR_IMAGE.jpg&overlap=30&confidence=40&stroke=1&labels=false&format=json"
          ]
        }
      ],
      "source": [
        "#Run inference on your model on a persistant, auto-scaling, cloud API\n",
        "\n",
        "#load model\n",
        "model = project.version(dataset.version).model\n",
        "\n",
        "#choose random test set image\n",
        "import os, random\n",
        "test_set_loc = dataset.location + \"/test/images/\"\n",
        "random_test_image = random.choice(os.listdir(test_set_loc))\n",
        "print(\"running inference on \" + random_test_image)\n",
        "\n",
        "pred = model.predict(test_set_loc + random_test_image, confidence=40, overlap=30).json()\n",
        "pred"
      ]
    },
    {
      "cell_type": "code",
      "source": [
        "from ultralytics import YOLO\n",
        "model = YOLO('/content/drive/MyDrive/p16-depth-estimation/runs/detect/train/weights/best.pt')\n",
        "results = model.predict(source='/content/drive/MyDrive/Depth Estimation Project/data_depth/test/images/03_13-06-2023_mp4-19_jpg.rf.8f0041cc74695ab0784332664fe88a43.jpg', conf=0.25)"
      ],
      "metadata": {
        "colab": {
          "base_uri": "https://localhost:8080/"
        },
        "id": "J07M5afxd3bf",
        "outputId": "8e0aba35-3a13-4bd2-c1de-8212ad4b251b"
      },
      "execution_count": null,
      "outputs": [
        {
          "output_type": "stream",
          "name": "stderr",
          "text": [
            "Ultralytics YOLOv8.0.20 🚀 Python-3.10.12 torch-2.0.1+cu118 CUDA:0 (Tesla T4, 15102MiB)\n",
            "Model summary (fused): 168 layers, 11127906 parameters, 0 gradients, 28.4 GFLOPs\n"
          ]
        }
      ]
    },
    {
      "cell_type": "code",
      "source": [
        "results"
      ],
      "metadata": {
        "colab": {
          "base_uri": "https://localhost:8080/"
        },
        "id": "sZIGgtq5fNIR",
        "outputId": "ad870d2b-7eaf-45b6-93c4-ab1f11c50cfc"
      },
      "execution_count": null,
      "outputs": [
        {
          "output_type": "execute_result",
          "data": {
            "text/plain": [
              "[Ultralytics YOLO <class 'ultralytics.yolo.engine.results.Boxes'> masks\n",
              " type: <class 'torch.Tensor'>\n",
              " shape: torch.Size([7, 6])\n",
              " dtype: torch.float32\n",
              "  + tensor([[8.72000e+02, 6.37000e+02, 1.01300e+03, 7.61000e+02, 8.72634e-01, 1.00000e+00],\n",
              "         [7.26000e+02, 6.27000e+02, 7.79000e+02, 7.74000e+02, 8.00209e-01, 1.00000e+00],\n",
              "         [4.20000e+02, 6.19000e+02, 4.64000e+02, 7.64000e+02, 7.85085e-01, 2.00000e+00],\n",
              "         [2.53000e+02, 6.44000e+02, 2.95000e+02, 8.09000e+02, 7.57707e-01, 2.00000e+00],\n",
              "         [1.30000e+02, 6.54000e+02, 1.75000e+02, 8.24000e+02, 7.35159e-01, 2.00000e+00],\n",
              "         [2.04000e+02, 6.53000e+02, 2.34000e+02, 8.10000e+02, 4.69588e-01, 2.00000e+00],\n",
              "         [5.17000e+02, 6.63000e+02, 5.49000e+02, 7.31000e+02, 4.32924e-01, 2.00000e+00]], device='cuda:0')]"
            ]
          },
          "metadata": {},
          "execution_count": 7
        }
      ]
    },
    {
      "cell_type": "code",
      "source": [],
      "metadata": {
        "id": "YQ4Ux3hMOYnj"
      },
      "execution_count": null,
      "outputs": []
    },
    {
      "cell_type": "code",
      "source": [
        "from ultralytics import YOLO\n",
        "\n",
        "# Load a pretrained YOLOv8n model\n",
        "model = YOLO('/content/drive/MyDrive/p16-depth-estimation/runs/detect/train/weights/best.pt')\n",
        "\n",
        "# Define path to video file\n",
        "source = '/content/drive/MyDrive/Depth Estimation Project/Videos_without_Audio/10th July/100_10-07-2023.mp4'\n",
        "\n",
        "# Run inference on the source\n",
        "results = model(source, stream=True)  # generator of Results objects"
      ],
      "metadata": {
        "colab": {
          "base_uri": "https://localhost:8080/"
        },
        "id": "XoiUxA36hlFg",
        "outputId": "75455989-4def-44c6-bea0-37db485effdd"
      },
      "execution_count": null,
      "outputs": [
        {
          "output_type": "stream",
          "name": "stderr",
          "text": [
            "Ultralytics YOLOv8.0.20 🚀 Python-3.10.12 torch-2.0.1+cu118 CUDA:0 (Tesla T4, 15102MiB)\n",
            "Model summary (fused): 168 layers, 11127906 parameters, 0 gradients, 28.4 GFLOPs\n"
          ]
        }
      ]
    },
    {
      "cell_type": "code",
      "source": [
        "!yolo task=detect mode=predict model=/content/drive/MyDrive/p16-depth-estimation/runs/detect/train/weights/best.pt conf=0.05 source=\"/content/drive/MyDrive/Depth Estimation Project/Videos_without_Audio/test\" save=True"
      ],
      "metadata": {
        "colab": {
          "base_uri": "https://localhost:8080/"
        },
        "id": "cT05iXv1h76R",
        "outputId": "ec375402-f984-46bb-807b-93c63b98924a"
      },
      "execution_count": null,
      "outputs": [
        {
          "output_type": "stream",
          "name": "stdout",
          "text": [
            "2023-08-18 07:56:42.580186: I tensorflow/core/platform/cpu_feature_guard.cc:182] This TensorFlow binary is optimized to use available CPU instructions in performance-critical operations.\n",
            "To enable the following instructions: AVX2 AVX512F FMA, in other operations, rebuild TensorFlow with the appropriate compiler flags.\n",
            "2023-08-18 07:56:44.570078: W tensorflow/compiler/tf2tensorrt/utils/py_utils.cc:38] TF-TRT Warning: Could not find TensorRT\n",
            "Ultralytics YOLOv8.0.20 🚀 Python-3.10.12 torch-2.0.1+cu118 CUDA:0 (Tesla T4, 15102MiB)\n",
            "Model summary (fused): 168 layers, 11127906 parameters, 0 gradients, 28.4 GFLOPs\n",
            "video 1/1 (1/329) /content/drive/MyDrive/Depth Estimation Project/Videos_without_Audio/test/24_10-07-2023.mp4: 480x800 5 LMVs, 1 RoadDamages, 111.2ms\n",
            "video 1/1 (2/329) /content/drive/MyDrive/Depth Estimation Project/Videos_without_Audio/test/24_10-07-2023.mp4: 480x800 5 LMVs, 16.2ms\n",
            "video 1/1 (3/329) /content/drive/MyDrive/Depth Estimation Project/Videos_without_Audio/test/24_10-07-2023.mp4: 480x800 5 LMVs, 1 SpeedBump, 21.0ms\n",
            "video 1/1 (4/329) /content/drive/MyDrive/Depth Estimation Project/Videos_without_Audio/test/24_10-07-2023.mp4: 480x800 5 LMVs, 1 RoadDamages, 1 SpeedBump, 18.1ms\n",
            "video 1/1 (5/329) /content/drive/MyDrive/Depth Estimation Project/Videos_without_Audio/test/24_10-07-2023.mp4: 480x800 5 LMVs, 1 RoadDamages, 1 SpeedBump, 1 UnsurfacedRoad, 15.5ms\n",
            "video 1/1 (6/329) /content/drive/MyDrive/Depth Estimation Project/Videos_without_Audio/test/24_10-07-2023.mp4: 480x800 5 LMVs, 15.5ms\n",
            "video 1/1 (7/329) /content/drive/MyDrive/Depth Estimation Project/Videos_without_Audio/test/24_10-07-2023.mp4: 480x800 5 LMVs, 2 RoadDamagess, 19.8ms\n",
            "video 1/1 (8/329) /content/drive/MyDrive/Depth Estimation Project/Videos_without_Audio/test/24_10-07-2023.mp4: 480x800 5 LMVs, 1 RoadDamages, 19.6ms\n",
            "video 1/1 (9/329) /content/drive/MyDrive/Depth Estimation Project/Videos_without_Audio/test/24_10-07-2023.mp4: 480x800 5 LMVs, 1 RoadDamages, 19.0ms\n",
            "video 1/1 (10/329) /content/drive/MyDrive/Depth Estimation Project/Videos_without_Audio/test/24_10-07-2023.mp4: 480x800 5 LMVs, 20.1ms\n",
            "video 1/1 (11/329) /content/drive/MyDrive/Depth Estimation Project/Videos_without_Audio/test/24_10-07-2023.mp4: 480x800 5 LMVs, 17.8ms\n",
            "video 1/1 (12/329) /content/drive/MyDrive/Depth Estimation Project/Videos_without_Audio/test/24_10-07-2023.mp4: 480x800 5 LMVs, 18.2ms\n",
            "video 1/1 (13/329) /content/drive/MyDrive/Depth Estimation Project/Videos_without_Audio/test/24_10-07-2023.mp4: 480x800 5 LMVs, 15.5ms\n",
            "video 1/1 (14/329) /content/drive/MyDrive/Depth Estimation Project/Videos_without_Audio/test/24_10-07-2023.mp4: 480x800 5 LMVs, 1 RoadDamages, 15.5ms\n",
            "video 1/1 (15/329) /content/drive/MyDrive/Depth Estimation Project/Videos_without_Audio/test/24_10-07-2023.mp4: 480x800 5 LMVs, 15.5ms\n",
            "video 1/1 (16/329) /content/drive/MyDrive/Depth Estimation Project/Videos_without_Audio/test/24_10-07-2023.mp4: 480x800 5 LMVs, 2 RoadDamagess, 15.5ms\n",
            "video 1/1 (17/329) /content/drive/MyDrive/Depth Estimation Project/Videos_without_Audio/test/24_10-07-2023.mp4: 480x800 5 LMVs, 1 RoadDamages, 1 SpeedBump, 15.5ms\n",
            "video 1/1 (18/329) /content/drive/MyDrive/Depth Estimation Project/Videos_without_Audio/test/24_10-07-2023.mp4: 480x800 5 LMVs, 1 RoadDamages, 15.5ms\n",
            "video 1/1 (19/329) /content/drive/MyDrive/Depth Estimation Project/Videos_without_Audio/test/24_10-07-2023.mp4: 480x800 5 LMVs, 15.5ms\n",
            "video 1/1 (20/329) /content/drive/MyDrive/Depth Estimation Project/Videos_without_Audio/test/24_10-07-2023.mp4: 480x800 5 LMVs, 15.5ms\n",
            "video 1/1 (21/329) /content/drive/MyDrive/Depth Estimation Project/Videos_without_Audio/test/24_10-07-2023.mp4: 480x800 5 LMVs, 15.5ms\n",
            "video 1/1 (22/329) /content/drive/MyDrive/Depth Estimation Project/Videos_without_Audio/test/24_10-07-2023.mp4: 480x800 5 LMVs, 15.5ms\n",
            "video 1/1 (23/329) /content/drive/MyDrive/Depth Estimation Project/Videos_without_Audio/test/24_10-07-2023.mp4: 480x800 5 LMVs, 15.5ms\n",
            "video 1/1 (24/329) /content/drive/MyDrive/Depth Estimation Project/Videos_without_Audio/test/24_10-07-2023.mp4: 480x800 5 LMVs, 15.5ms\n",
            "video 1/1 (25/329) /content/drive/MyDrive/Depth Estimation Project/Videos_without_Audio/test/24_10-07-2023.mp4: 480x800 5 LMVs, 15.5ms\n",
            "video 1/1 (26/329) /content/drive/MyDrive/Depth Estimation Project/Videos_without_Audio/test/24_10-07-2023.mp4: 480x800 5 LMVs, 15.4ms\n",
            "video 1/1 (27/329) /content/drive/MyDrive/Depth Estimation Project/Videos_without_Audio/test/24_10-07-2023.mp4: 480x800 5 LMVs, 15.5ms\n",
            "video 1/1 (28/329) /content/drive/MyDrive/Depth Estimation Project/Videos_without_Audio/test/24_10-07-2023.mp4: 480x800 5 LMVs, 15.5ms\n",
            "video 1/1 (29/329) /content/drive/MyDrive/Depth Estimation Project/Videos_without_Audio/test/24_10-07-2023.mp4: 480x800 5 LMVs, 15.5ms\n",
            "video 1/1 (30/329) /content/drive/MyDrive/Depth Estimation Project/Videos_without_Audio/test/24_10-07-2023.mp4: 480x800 5 LMVs, 15.5ms\n",
            "video 1/1 (31/329) /content/drive/MyDrive/Depth Estimation Project/Videos_without_Audio/test/24_10-07-2023.mp4: 480x800 5 LMVs, 15.5ms\n",
            "video 1/1 (32/329) /content/drive/MyDrive/Depth Estimation Project/Videos_without_Audio/test/24_10-07-2023.mp4: 480x800 5 LMVs, 15.5ms\n",
            "video 1/1 (33/329) /content/drive/MyDrive/Depth Estimation Project/Videos_without_Audio/test/24_10-07-2023.mp4: 480x800 5 LMVs, 15.5ms\n",
            "video 1/1 (34/329) /content/drive/MyDrive/Depth Estimation Project/Videos_without_Audio/test/24_10-07-2023.mp4: 480x800 5 LMVs, 15.5ms\n",
            "video 1/1 (35/329) /content/drive/MyDrive/Depth Estimation Project/Videos_without_Audio/test/24_10-07-2023.mp4: 480x800 5 LMVs, 15.5ms\n",
            "video 1/1 (36/329) /content/drive/MyDrive/Depth Estimation Project/Videos_without_Audio/test/24_10-07-2023.mp4: 480x800 5 LMVs, 15.5ms\n",
            "video 1/1 (37/329) /content/drive/MyDrive/Depth Estimation Project/Videos_without_Audio/test/24_10-07-2023.mp4: 480x800 5 LMVs, 15.5ms\n",
            "video 1/1 (38/329) /content/drive/MyDrive/Depth Estimation Project/Videos_without_Audio/test/24_10-07-2023.mp4: 480x800 5 LMVs, 15.5ms\n",
            "video 1/1 (39/329) /content/drive/MyDrive/Depth Estimation Project/Videos_without_Audio/test/24_10-07-2023.mp4: 480x800 5 LMVs, 15.5ms\n",
            "video 1/1 (40/329) /content/drive/MyDrive/Depth Estimation Project/Videos_without_Audio/test/24_10-07-2023.mp4: 480x800 5 LMVs, 15.5ms\n",
            "video 1/1 (41/329) /content/drive/MyDrive/Depth Estimation Project/Videos_without_Audio/test/24_10-07-2023.mp4: 480x800 5 LMVs, 15.5ms\n",
            "video 1/1 (42/329) /content/drive/MyDrive/Depth Estimation Project/Videos_without_Audio/test/24_10-07-2023.mp4: 480x800 5 LMVs, 15.5ms\n",
            "video 1/1 (43/329) /content/drive/MyDrive/Depth Estimation Project/Videos_without_Audio/test/24_10-07-2023.mp4: 480x800 5 LMVs, 15.5ms\n",
            "video 1/1 (44/329) /content/drive/MyDrive/Depth Estimation Project/Videos_without_Audio/test/24_10-07-2023.mp4: 480x800 6 LMVs, 1 RoadDamages, 15.5ms\n",
            "video 1/1 (45/329) /content/drive/MyDrive/Depth Estimation Project/Videos_without_Audio/test/24_10-07-2023.mp4: 480x800 5 LMVs, 15.5ms\n",
            "video 1/1 (46/329) /content/drive/MyDrive/Depth Estimation Project/Videos_without_Audio/test/24_10-07-2023.mp4: 480x800 6 LMVs, 15.4ms\n",
            "video 1/1 (47/329) /content/drive/MyDrive/Depth Estimation Project/Videos_without_Audio/test/24_10-07-2023.mp4: 480x800 5 LMVs, 16.7ms\n",
            "video 1/1 (48/329) /content/drive/MyDrive/Depth Estimation Project/Videos_without_Audio/test/24_10-07-2023.mp4: 480x800 6 LMVs, 15.5ms\n",
            "video 1/1 (49/329) /content/drive/MyDrive/Depth Estimation Project/Videos_without_Audio/test/24_10-07-2023.mp4: 480x800 6 LMVs, 1 RoadDamages, 15.5ms\n",
            "video 1/1 (50/329) /content/drive/MyDrive/Depth Estimation Project/Videos_without_Audio/test/24_10-07-2023.mp4: 480x800 7 LMVs, 1 RoadDamages, 15.5ms\n",
            "video 1/1 (51/329) /content/drive/MyDrive/Depth Estimation Project/Videos_without_Audio/test/24_10-07-2023.mp4: 480x800 6 LMVs, 2 RoadDamagess, 1 UnsurfacedRoad, 15.5ms\n",
            "video 1/1 (52/329) /content/drive/MyDrive/Depth Estimation Project/Videos_without_Audio/test/24_10-07-2023.mp4: 480x800 8 LMVs, 3 RoadDamagess, 15.5ms\n",
            "video 1/1 (53/329) /content/drive/MyDrive/Depth Estimation Project/Videos_without_Audio/test/24_10-07-2023.mp4: 480x800 7 LMVs, 3 RoadDamagess, 15.5ms\n",
            "video 1/1 (54/329) /content/drive/MyDrive/Depth Estimation Project/Videos_without_Audio/test/24_10-07-2023.mp4: 480x800 8 LMVs, 3 RoadDamagess, 15.5ms\n",
            "video 1/1 (55/329) /content/drive/MyDrive/Depth Estimation Project/Videos_without_Audio/test/24_10-07-2023.mp4: 480x800 8 LMVs, 3 RoadDamagess, 15.4ms\n",
            "video 1/1 (56/329) /content/drive/MyDrive/Depth Estimation Project/Videos_without_Audio/test/24_10-07-2023.mp4: 480x800 7 LMVs, 2 RoadDamagess, 15.5ms\n",
            "video 1/1 (57/329) /content/drive/MyDrive/Depth Estimation Project/Videos_without_Audio/test/24_10-07-2023.mp4: 480x800 8 LMVs, 2 RoadDamagess, 15.5ms\n",
            "video 1/1 (58/329) /content/drive/MyDrive/Depth Estimation Project/Videos_without_Audio/test/24_10-07-2023.mp4: 480x800 8 LMVs, 2 RoadDamagess, 15.4ms\n",
            "video 1/1 (59/329) /content/drive/MyDrive/Depth Estimation Project/Videos_without_Audio/test/24_10-07-2023.mp4: 480x800 8 LMVs, 3 RoadDamagess, 15.5ms\n",
            "video 1/1 (60/329) /content/drive/MyDrive/Depth Estimation Project/Videos_without_Audio/test/24_10-07-2023.mp4: 480x800 7 LMVs, 3 RoadDamagess, 1 UnsurfacedRoad, 15.5ms\n",
            "video 1/1 (61/329) /content/drive/MyDrive/Depth Estimation Project/Videos_without_Audio/test/24_10-07-2023.mp4: 480x800 6 LMVs, 4 RoadDamagess, 15.5ms\n",
            "video 1/1 (62/329) /content/drive/MyDrive/Depth Estimation Project/Videos_without_Audio/test/24_10-07-2023.mp4: 480x800 6 LMVs, 1 RoadDamages, 15.5ms\n",
            "video 1/1 (63/329) /content/drive/MyDrive/Depth Estimation Project/Videos_without_Audio/test/24_10-07-2023.mp4: 480x800 6 LMVs, 2 RoadDamagess, 15.5ms\n",
            "video 1/1 (64/329) /content/drive/MyDrive/Depth Estimation Project/Videos_without_Audio/test/24_10-07-2023.mp4: 480x800 6 LMVs, 1 RoadDamages, 15.5ms\n",
            "video 1/1 (65/329) /content/drive/MyDrive/Depth Estimation Project/Videos_without_Audio/test/24_10-07-2023.mp4: 480x800 5 LMVs, 1 RoadDamages, 15.6ms\n",
            "video 1/1 (66/329) /content/drive/MyDrive/Depth Estimation Project/Videos_without_Audio/test/24_10-07-2023.mp4: 480x800 6 LMVs, 2 RoadDamagess, 15.5ms\n",
            "video 1/1 (67/329) /content/drive/MyDrive/Depth Estimation Project/Videos_without_Audio/test/24_10-07-2023.mp4: 480x800 7 LMVs, 3 RoadDamagess, 15.5ms\n",
            "video 1/1 (68/329) /content/drive/MyDrive/Depth Estimation Project/Videos_without_Audio/test/24_10-07-2023.mp4: 480x800 7 LMVs, 3 RoadDamagess, 15.5ms\n",
            "video 1/1 (69/329) /content/drive/MyDrive/Depth Estimation Project/Videos_without_Audio/test/24_10-07-2023.mp4: 480x800 7 LMVs, 2 RoadDamagess, 15.5ms\n",
            "video 1/1 (70/329) /content/drive/MyDrive/Depth Estimation Project/Videos_without_Audio/test/24_10-07-2023.mp4: 480x800 5 LMVs, 2 RoadDamagess, 15.5ms\n",
            "video 1/1 (71/329) /content/drive/MyDrive/Depth Estimation Project/Videos_without_Audio/test/24_10-07-2023.mp4: 480x800 5 LMVs, 1 RoadDamages, 15.5ms\n",
            "video 1/1 (72/329) /content/drive/MyDrive/Depth Estimation Project/Videos_without_Audio/test/24_10-07-2023.mp4: 480x800 5 LMVs, 1 RoadDamages, 15.5ms\n",
            "video 1/1 (73/329) /content/drive/MyDrive/Depth Estimation Project/Videos_without_Audio/test/24_10-07-2023.mp4: 480x800 5 LMVs, 1 RoadDamages, 15.5ms\n",
            "video 1/1 (74/329) /content/drive/MyDrive/Depth Estimation Project/Videos_without_Audio/test/24_10-07-2023.mp4: 480x800 5 LMVs, 1 RoadDamages, 15.5ms\n",
            "video 1/1 (75/329) /content/drive/MyDrive/Depth Estimation Project/Videos_without_Audio/test/24_10-07-2023.mp4: 480x800 5 LMVs, 2 RoadDamagess, 15.5ms\n",
            "video 1/1 (76/329) /content/drive/MyDrive/Depth Estimation Project/Videos_without_Audio/test/24_10-07-2023.mp4: 480x800 5 LMVs, 2 RoadDamagess, 15.5ms\n",
            "video 1/1 (77/329) /content/drive/MyDrive/Depth Estimation Project/Videos_without_Audio/test/24_10-07-2023.mp4: 480x800 4 LMVs, 3 RoadDamagess, 15.5ms\n",
            "video 1/1 (78/329) /content/drive/MyDrive/Depth Estimation Project/Videos_without_Audio/test/24_10-07-2023.mp4: 480x800 4 LMVs, 3 RoadDamagess, 1 UnsurfacedRoad, 15.5ms\n",
            "video 1/1 (79/329) /content/drive/MyDrive/Depth Estimation Project/Videos_without_Audio/test/24_10-07-2023.mp4: 480x800 4 LMVs, 15.5ms\n",
            "video 1/1 (80/329) /content/drive/MyDrive/Depth Estimation Project/Videos_without_Audio/test/24_10-07-2023.mp4: 480x800 4 LMVs, 15.5ms\n",
            "video 1/1 (81/329) /content/drive/MyDrive/Depth Estimation Project/Videos_without_Audio/test/24_10-07-2023.mp4: 480x800 4 LMVs, 15.5ms\n",
            "video 1/1 (82/329) /content/drive/MyDrive/Depth Estimation Project/Videos_without_Audio/test/24_10-07-2023.mp4: 480x800 4 LMVs, 15.5ms\n",
            "video 1/1 (83/329) /content/drive/MyDrive/Depth Estimation Project/Videos_without_Audio/test/24_10-07-2023.mp4: 480x800 4 LMVs, 15.5ms\n",
            "video 1/1 (84/329) /content/drive/MyDrive/Depth Estimation Project/Videos_without_Audio/test/24_10-07-2023.mp4: 480x800 4 LMVs, 15.5ms\n",
            "video 1/1 (85/329) /content/drive/MyDrive/Depth Estimation Project/Videos_without_Audio/test/24_10-07-2023.mp4: 480x800 4 LMVs, 1 RoadDamages, 15.5ms\n",
            "video 1/1 (86/329) /content/drive/MyDrive/Depth Estimation Project/Videos_without_Audio/test/24_10-07-2023.mp4: 480x800 4 LMVs, 15.5ms\n",
            "video 1/1 (87/329) /content/drive/MyDrive/Depth Estimation Project/Videos_without_Audio/test/24_10-07-2023.mp4: 480x800 4 LMVs, 15.4ms\n",
            "video 1/1 (88/329) /content/drive/MyDrive/Depth Estimation Project/Videos_without_Audio/test/24_10-07-2023.mp4: 480x800 4 LMVs, 15.5ms\n",
            "video 1/1 (89/329) /content/drive/MyDrive/Depth Estimation Project/Videos_without_Audio/test/24_10-07-2023.mp4: 480x800 4 LMVs, 15.5ms\n",
            "video 1/1 (90/329) /content/drive/MyDrive/Depth Estimation Project/Videos_without_Audio/test/24_10-07-2023.mp4: 480x800 4 LMVs, 1 RoadDamages, 15.5ms\n",
            "video 1/1 (91/329) /content/drive/MyDrive/Depth Estimation Project/Videos_without_Audio/test/24_10-07-2023.mp4: 480x800 4 LMVs, 15.5ms\n",
            "video 1/1 (92/329) /content/drive/MyDrive/Depth Estimation Project/Videos_without_Audio/test/24_10-07-2023.mp4: 480x800 4 LMVs, 15.5ms\n",
            "video 1/1 (93/329) /content/drive/MyDrive/Depth Estimation Project/Videos_without_Audio/test/24_10-07-2023.mp4: 480x800 4 LMVs, 15.5ms\n",
            "video 1/1 (94/329) /content/drive/MyDrive/Depth Estimation Project/Videos_without_Audio/test/24_10-07-2023.mp4: 480x800 4 LMVs, 15.5ms\n",
            "video 1/1 (95/329) /content/drive/MyDrive/Depth Estimation Project/Videos_without_Audio/test/24_10-07-2023.mp4: 480x800 4 LMVs, 1 RoadDamages, 15.5ms\n",
            "video 1/1 (96/329) /content/drive/MyDrive/Depth Estimation Project/Videos_without_Audio/test/24_10-07-2023.mp4: 480x800 4 LMVs, 1 RoadDamages, 15.5ms\n",
            "video 1/1 (97/329) /content/drive/MyDrive/Depth Estimation Project/Videos_without_Audio/test/24_10-07-2023.mp4: 480x800 4 LMVs, 1 RoadDamages, 15.5ms\n",
            "video 1/1 (98/329) /content/drive/MyDrive/Depth Estimation Project/Videos_without_Audio/test/24_10-07-2023.mp4: 480x800 4 LMVs, 3 RoadDamagess, 15.5ms\n",
            "video 1/1 (99/329) /content/drive/MyDrive/Depth Estimation Project/Videos_without_Audio/test/24_10-07-2023.mp4: 480x800 4 LMVs, 2 RoadDamagess, 15.5ms\n",
            "video 1/1 (100/329) /content/drive/MyDrive/Depth Estimation Project/Videos_without_Audio/test/24_10-07-2023.mp4: 480x800 4 LMVs, 2 RoadDamagess, 15.4ms\n",
            "video 1/1 (101/329) /content/drive/MyDrive/Depth Estimation Project/Videos_without_Audio/test/24_10-07-2023.mp4: 480x800 4 LMVs, 1 RoadDamages, 15.5ms\n",
            "video 1/1 (102/329) /content/drive/MyDrive/Depth Estimation Project/Videos_without_Audio/test/24_10-07-2023.mp4: 480x800 4 LMVs, 1 RoadDamages, 15.5ms\n",
            "video 1/1 (103/329) /content/drive/MyDrive/Depth Estimation Project/Videos_without_Audio/test/24_10-07-2023.mp4: 480x800 4 LMVs, 1 RoadDamages, 15.5ms\n",
            "video 1/1 (104/329) /content/drive/MyDrive/Depth Estimation Project/Videos_without_Audio/test/24_10-07-2023.mp4: 480x800 4 LMVs, 2 RoadDamagess, 15.5ms\n",
            "video 1/1 (105/329) /content/drive/MyDrive/Depth Estimation Project/Videos_without_Audio/test/24_10-07-2023.mp4: 480x800 4 LMVs, 2 RoadDamagess, 16.1ms\n",
            "video 1/1 (106/329) /content/drive/MyDrive/Depth Estimation Project/Videos_without_Audio/test/24_10-07-2023.mp4: 480x800 4 LMVs, 2 RoadDamagess, 15.5ms\n",
            "video 1/1 (107/329) /content/drive/MyDrive/Depth Estimation Project/Videos_without_Audio/test/24_10-07-2023.mp4: 480x800 5 LMVs, 2 RoadDamagess, 15.5ms\n",
            "video 1/1 (108/329) /content/drive/MyDrive/Depth Estimation Project/Videos_without_Audio/test/24_10-07-2023.mp4: 480x800 4 LMVs, 1 RoadDamages, 15.5ms\n",
            "video 1/1 (109/329) /content/drive/MyDrive/Depth Estimation Project/Videos_without_Audio/test/24_10-07-2023.mp4: 480x800 5 LMVs, 1 RoadDamages, 15.5ms\n",
            "video 1/1 (110/329) /content/drive/MyDrive/Depth Estimation Project/Videos_without_Audio/test/24_10-07-2023.mp4: 480x800 6 LMVs, 1 RoadDamages, 15.4ms\n",
            "video 1/1 (111/329) /content/drive/MyDrive/Depth Estimation Project/Videos_without_Audio/test/24_10-07-2023.mp4: 480x800 5 LMVs, 1 RoadDamages, 15.5ms\n",
            "video 1/1 (112/329) /content/drive/MyDrive/Depth Estimation Project/Videos_without_Audio/test/24_10-07-2023.mp4: 480x800 6 LMVs, 1 RoadDamages, 15.5ms\n",
            "video 1/1 (113/329) /content/drive/MyDrive/Depth Estimation Project/Videos_without_Audio/test/24_10-07-2023.mp4: 480x800 7 LMVs, 1 RoadDamages, 15.5ms\n",
            "video 1/1 (114/329) /content/drive/MyDrive/Depth Estimation Project/Videos_without_Audio/test/24_10-07-2023.mp4: 480x800 7 LMVs, 1 RoadDamages, 15.5ms\n",
            "video 1/1 (115/329) /content/drive/MyDrive/Depth Estimation Project/Videos_without_Audio/test/24_10-07-2023.mp4: 480x800 7 LMVs, 1 RoadDamages, 15.5ms\n",
            "video 1/1 (116/329) /content/drive/MyDrive/Depth Estimation Project/Videos_without_Audio/test/24_10-07-2023.mp4: 480x800 8 LMVs, 1 RoadDamages, 15.4ms\n",
            "video 1/1 (117/329) /content/drive/MyDrive/Depth Estimation Project/Videos_without_Audio/test/24_10-07-2023.mp4: 480x800 8 LMVs, 1 RoadDamages, 15.4ms\n",
            "video 1/1 (118/329) /content/drive/MyDrive/Depth Estimation Project/Videos_without_Audio/test/24_10-07-2023.mp4: 480x800 7 LMVs, 1 RoadDamages, 15.5ms\n",
            "video 1/1 (119/329) /content/drive/MyDrive/Depth Estimation Project/Videos_without_Audio/test/24_10-07-2023.mp4: 480x800 6 LMVs, 2 RoadDamagess, 15.5ms\n",
            "video 1/1 (120/329) /content/drive/MyDrive/Depth Estimation Project/Videos_without_Audio/test/24_10-07-2023.mp4: 480x800 6 LMVs, 4 RoadDamagess, 15.5ms\n",
            "video 1/1 (121/329) /content/drive/MyDrive/Depth Estimation Project/Videos_without_Audio/test/24_10-07-2023.mp4: 480x800 7 LMVs, 5 RoadDamagess, 1 UnsurfacedRoad, 15.5ms\n",
            "video 1/1 (122/329) /content/drive/MyDrive/Depth Estimation Project/Videos_without_Audio/test/24_10-07-2023.mp4: 480x800 6 LMVs, 1 RoadDamages, 15.4ms\n",
            "video 1/1 (123/329) /content/drive/MyDrive/Depth Estimation Project/Videos_without_Audio/test/24_10-07-2023.mp4: 480x800 6 LMVs, 15.5ms\n",
            "video 1/1 (124/329) /content/drive/MyDrive/Depth Estimation Project/Videos_without_Audio/test/24_10-07-2023.mp4: 480x800 7 LMVs, 15.5ms\n",
            "video 1/1 (125/329) /content/drive/MyDrive/Depth Estimation Project/Videos_without_Audio/test/24_10-07-2023.mp4: 480x800 6 LMVs, 15.5ms\n",
            "video 1/1 (126/329) /content/drive/MyDrive/Depth Estimation Project/Videos_without_Audio/test/24_10-07-2023.mp4: 480x800 6 LMVs, 15.4ms\n",
            "video 1/1 (127/329) /content/drive/MyDrive/Depth Estimation Project/Videos_without_Audio/test/24_10-07-2023.mp4: 480x800 6 LMVs, 1 RoadDamages, 15.5ms\n",
            "video 1/1 (128/329) /content/drive/MyDrive/Depth Estimation Project/Videos_without_Audio/test/24_10-07-2023.mp4: 480x800 6 LMVs, 15.5ms\n",
            "video 1/1 (129/329) /content/drive/MyDrive/Depth Estimation Project/Videos_without_Audio/test/24_10-07-2023.mp4: 480x800 6 LMVs, 1 RoadDamages, 15.5ms\n",
            "video 1/1 (130/329) /content/drive/MyDrive/Depth Estimation Project/Videos_without_Audio/test/24_10-07-2023.mp4: 480x800 7 LMVs, 1 RoadDamages, 15.5ms\n",
            "video 1/1 (131/329) /content/drive/MyDrive/Depth Estimation Project/Videos_without_Audio/test/24_10-07-2023.mp4: 480x800 6 LMVs, 2 RoadDamagess, 15.5ms\n",
            "video 1/1 (132/329) /content/drive/MyDrive/Depth Estimation Project/Videos_without_Audio/test/24_10-07-2023.mp4: 480x800 5 LMVs, 1 RoadDamages, 15.5ms\n",
            "video 1/1 (133/329) /content/drive/MyDrive/Depth Estimation Project/Videos_without_Audio/test/24_10-07-2023.mp4: 480x800 4 LMVs, 1 RoadDamages, 15.5ms\n",
            "video 1/1 (134/329) /content/drive/MyDrive/Depth Estimation Project/Videos_without_Audio/test/24_10-07-2023.mp4: 480x800 5 LMVs, 1 RoadDamages, 15.5ms\n",
            "video 1/1 (135/329) /content/drive/MyDrive/Depth Estimation Project/Videos_without_Audio/test/24_10-07-2023.mp4: 480x800 5 LMVs, 1 RoadDamages, 15.5ms\n",
            "video 1/1 (136/329) /content/drive/MyDrive/Depth Estimation Project/Videos_without_Audio/test/24_10-07-2023.mp4: 480x800 5 LMVs, 1 RoadDamages, 15.5ms\n",
            "video 1/1 (137/329) /content/drive/MyDrive/Depth Estimation Project/Videos_without_Audio/test/24_10-07-2023.mp4: 480x800 5 LMVs, 1 RoadDamages, 15.5ms\n",
            "video 1/1 (138/329) /content/drive/MyDrive/Depth Estimation Project/Videos_without_Audio/test/24_10-07-2023.mp4: 480x800 5 LMVs, 15.5ms\n",
            "video 1/1 (139/329) /content/drive/MyDrive/Depth Estimation Project/Videos_without_Audio/test/24_10-07-2023.mp4: 480x800 4 LMVs, 15.5ms\n",
            "video 1/1 (140/329) /content/drive/MyDrive/Depth Estimation Project/Videos_without_Audio/test/24_10-07-2023.mp4: 480x800 4 LMVs, 15.5ms\n",
            "video 1/1 (141/329) /content/drive/MyDrive/Depth Estimation Project/Videos_without_Audio/test/24_10-07-2023.mp4: 480x800 4 LMVs, 15.5ms\n",
            "video 1/1 (142/329) /content/drive/MyDrive/Depth Estimation Project/Videos_without_Audio/test/24_10-07-2023.mp4: 480x800 4 LMVs, 15.4ms\n",
            "video 1/1 (143/329) /content/drive/MyDrive/Depth Estimation Project/Videos_without_Audio/test/24_10-07-2023.mp4: 480x800 4 LMVs, 15.5ms\n",
            "video 1/1 (144/329) /content/drive/MyDrive/Depth Estimation Project/Videos_without_Audio/test/24_10-07-2023.mp4: 480x800 4 LMVs, 15.5ms\n",
            "video 1/1 (145/329) /content/drive/MyDrive/Depth Estimation Project/Videos_without_Audio/test/24_10-07-2023.mp4: 480x800 4 LMVs, 15.4ms\n",
            "video 1/1 (146/329) /content/drive/MyDrive/Depth Estimation Project/Videos_without_Audio/test/24_10-07-2023.mp4: 480x800 4 LMVs, 15.5ms\n",
            "video 1/1 (147/329) /content/drive/MyDrive/Depth Estimation Project/Videos_without_Audio/test/24_10-07-2023.mp4: 480x800 6 LMVs, 15.5ms\n",
            "video 1/1 (148/329) /content/drive/MyDrive/Depth Estimation Project/Videos_without_Audio/test/24_10-07-2023.mp4: 480x800 4 LMVs, 15.5ms\n",
            "video 1/1 (149/329) /content/drive/MyDrive/Depth Estimation Project/Videos_without_Audio/test/24_10-07-2023.mp4: 480x800 4 LMVs, 15.6ms\n",
            "video 1/1 (150/329) /content/drive/MyDrive/Depth Estimation Project/Videos_without_Audio/test/24_10-07-2023.mp4: 480x800 4 LMVs, 15.4ms\n",
            "video 1/1 (151/329) /content/drive/MyDrive/Depth Estimation Project/Videos_without_Audio/test/24_10-07-2023.mp4: 480x800 4 LMVs, 15.5ms\n",
            "video 1/1 (152/329) /content/drive/MyDrive/Depth Estimation Project/Videos_without_Audio/test/24_10-07-2023.mp4: 480x800 5 LMVs, 15.5ms\n",
            "video 1/1 (153/329) /content/drive/MyDrive/Depth Estimation Project/Videos_without_Audio/test/24_10-07-2023.mp4: 480x800 5 LMVs, 15.5ms\n",
            "video 1/1 (154/329) /content/drive/MyDrive/Depth Estimation Project/Videos_without_Audio/test/24_10-07-2023.mp4: 480x800 4 LMVs, 15.5ms\n",
            "video 1/1 (155/329) /content/drive/MyDrive/Depth Estimation Project/Videos_without_Audio/test/24_10-07-2023.mp4: 480x800 4 LMVs, 15.5ms\n",
            "video 1/1 (156/329) /content/drive/MyDrive/Depth Estimation Project/Videos_without_Audio/test/24_10-07-2023.mp4: 480x800 4 LMVs, 1 RoadDamages, 15.5ms\n",
            "video 1/1 (157/329) /content/drive/MyDrive/Depth Estimation Project/Videos_without_Audio/test/24_10-07-2023.mp4: 480x800 4 LMVs, 15.4ms\n",
            "video 1/1 (158/329) /content/drive/MyDrive/Depth Estimation Project/Videos_without_Audio/test/24_10-07-2023.mp4: 480x800 4 LMVs, 15.4ms\n",
            "video 1/1 (159/329) /content/drive/MyDrive/Depth Estimation Project/Videos_without_Audio/test/24_10-07-2023.mp4: 480x800 4 LMVs, 15.5ms\n",
            "video 1/1 (160/329) /content/drive/MyDrive/Depth Estimation Project/Videos_without_Audio/test/24_10-07-2023.mp4: 480x800 4 LMVs, 15.5ms\n",
            "video 1/1 (161/329) /content/drive/MyDrive/Depth Estimation Project/Videos_without_Audio/test/24_10-07-2023.mp4: 480x800 3 LMVs, 15.5ms\n",
            "video 1/1 (162/329) /content/drive/MyDrive/Depth Estimation Project/Videos_without_Audio/test/24_10-07-2023.mp4: 480x800 4 LMVs, 15.5ms\n",
            "video 1/1 (163/329) /content/drive/MyDrive/Depth Estimation Project/Videos_without_Audio/test/24_10-07-2023.mp4: 480x800 4 LMVs, 15.5ms\n",
            "video 1/1 (164/329) /content/drive/MyDrive/Depth Estimation Project/Videos_without_Audio/test/24_10-07-2023.mp4: 480x800 4 LMVs, 15.5ms\n",
            "video 1/1 (165/329) /content/drive/MyDrive/Depth Estimation Project/Videos_without_Audio/test/24_10-07-2023.mp4: 480x800 4 LMVs, 15.5ms\n",
            "video 1/1 (166/329) /content/drive/MyDrive/Depth Estimation Project/Videos_without_Audio/test/24_10-07-2023.mp4: 480x800 3 LMVs, 15.5ms\n",
            "video 1/1 (167/329) /content/drive/MyDrive/Depth Estimation Project/Videos_without_Audio/test/24_10-07-2023.mp4: 480x800 3 LMVs, 15.4ms\n",
            "video 1/1 (168/329) /content/drive/MyDrive/Depth Estimation Project/Videos_without_Audio/test/24_10-07-2023.mp4: 480x800 4 LMVs, 15.5ms\n",
            "video 1/1 (169/329) /content/drive/MyDrive/Depth Estimation Project/Videos_without_Audio/test/24_10-07-2023.mp4: 480x800 3 LMVs, 15.5ms\n",
            "video 1/1 (170/329) /content/drive/MyDrive/Depth Estimation Project/Videos_without_Audio/test/24_10-07-2023.mp4: 480x800 3 LMVs, 15.5ms\n",
            "video 1/1 (171/329) /content/drive/MyDrive/Depth Estimation Project/Videos_without_Audio/test/24_10-07-2023.mp4: 480x800 3 LMVs, 1 RoadDamages, 17.9ms\n",
            "video 1/1 (172/329) /content/drive/MyDrive/Depth Estimation Project/Videos_without_Audio/test/24_10-07-2023.mp4: 480x800 3 LMVs, 15.5ms\n",
            "video 1/1 (173/329) /content/drive/MyDrive/Depth Estimation Project/Videos_without_Audio/test/24_10-07-2023.mp4: 480x800 3 LMVs, 15.4ms\n",
            "video 1/1 (174/329) /content/drive/MyDrive/Depth Estimation Project/Videos_without_Audio/test/24_10-07-2023.mp4: 480x800 4 LMVs, 15.5ms\n",
            "video 1/1 (175/329) /content/drive/MyDrive/Depth Estimation Project/Videos_without_Audio/test/24_10-07-2023.mp4: 480x800 4 LMVs, 16.3ms\n",
            "video 1/1 (176/329) /content/drive/MyDrive/Depth Estimation Project/Videos_without_Audio/test/24_10-07-2023.mp4: 480x800 4 LMVs, 15.5ms\n",
            "video 1/1 (177/329) /content/drive/MyDrive/Depth Estimation Project/Videos_without_Audio/test/24_10-07-2023.mp4: 480x800 4 LMVs, 1 RoadDamages, 15.5ms\n",
            "video 1/1 (178/329) /content/drive/MyDrive/Depth Estimation Project/Videos_without_Audio/test/24_10-07-2023.mp4: 480x800 4 LMVs, 2 RoadDamagess, 15.5ms\n",
            "video 1/1 (179/329) /content/drive/MyDrive/Depth Estimation Project/Videos_without_Audio/test/24_10-07-2023.mp4: 480x800 3 LMVs, 1 RoadDamages, 15.5ms\n",
            "video 1/1 (180/329) /content/drive/MyDrive/Depth Estimation Project/Videos_without_Audio/test/24_10-07-2023.mp4: 480x800 4 LMVs, 1 RoadDamages, 15.4ms\n",
            "video 1/1 (181/329) /content/drive/MyDrive/Depth Estimation Project/Videos_without_Audio/test/24_10-07-2023.mp4: 480x800 4 LMVs, 2 RoadDamagess, 15.5ms\n",
            "video 1/1 (182/329) /content/drive/MyDrive/Depth Estimation Project/Videos_without_Audio/test/24_10-07-2023.mp4: 480x800 4 LMVs, 3 RoadDamagess, 15.5ms\n",
            "video 1/1 (183/329) /content/drive/MyDrive/Depth Estimation Project/Videos_without_Audio/test/24_10-07-2023.mp4: 480x800 4 LMVs, 4 RoadDamagess, 15.5ms\n",
            "video 1/1 (184/329) /content/drive/MyDrive/Depth Estimation Project/Videos_without_Audio/test/24_10-07-2023.mp4: 480x800 4 LMVs, 4 RoadDamagess, 15.5ms\n",
            "video 1/1 (185/329) /content/drive/MyDrive/Depth Estimation Project/Videos_without_Audio/test/24_10-07-2023.mp4: 480x800 4 LMVs, 3 RoadDamagess, 15.5ms\n",
            "video 1/1 (186/329) /content/drive/MyDrive/Depth Estimation Project/Videos_without_Audio/test/24_10-07-2023.mp4: 480x800 4 LMVs, 3 RoadDamagess, 15.5ms\n",
            "video 1/1 (187/329) /content/drive/MyDrive/Depth Estimation Project/Videos_without_Audio/test/24_10-07-2023.mp4: 480x800 3 LMVs, 4 RoadDamagess, 15.4ms\n",
            "video 1/1 (188/329) /content/drive/MyDrive/Depth Estimation Project/Videos_without_Audio/test/24_10-07-2023.mp4: 480x800 3 LMVs, 1 RoadDamages, 15.5ms\n",
            "video 1/1 (189/329) /content/drive/MyDrive/Depth Estimation Project/Videos_without_Audio/test/24_10-07-2023.mp4: 480x800 3 LMVs, 1 RoadDamages, 15.5ms\n",
            "video 1/1 (190/329) /content/drive/MyDrive/Depth Estimation Project/Videos_without_Audio/test/24_10-07-2023.mp4: 480x800 3 LMVs, 15.5ms\n",
            "video 1/1 (191/329) /content/drive/MyDrive/Depth Estimation Project/Videos_without_Audio/test/24_10-07-2023.mp4: 480x800 3 LMVs, 15.5ms\n",
            "video 1/1 (192/329) /content/drive/MyDrive/Depth Estimation Project/Videos_without_Audio/test/24_10-07-2023.mp4: 480x800 3 LMVs, 1 RoadDamages, 15.5ms\n",
            "video 1/1 (193/329) /content/drive/MyDrive/Depth Estimation Project/Videos_without_Audio/test/24_10-07-2023.mp4: 480x800 3 LMVs, 15.5ms\n",
            "video 1/1 (194/329) /content/drive/MyDrive/Depth Estimation Project/Videos_without_Audio/test/24_10-07-2023.mp4: 480x800 4 LMVs, 15.4ms\n",
            "video 1/1 (195/329) /content/drive/MyDrive/Depth Estimation Project/Videos_without_Audio/test/24_10-07-2023.mp4: 480x800 3 LMVs, 15.5ms\n",
            "video 1/1 (196/329) /content/drive/MyDrive/Depth Estimation Project/Videos_without_Audio/test/24_10-07-2023.mp4: 480x800 3 LMVs, 15.5ms\n",
            "video 1/1 (197/329) /content/drive/MyDrive/Depth Estimation Project/Videos_without_Audio/test/24_10-07-2023.mp4: 480x800 4 LMVs, 2 RoadDamagess, 15.5ms\n",
            "video 1/1 (198/329) /content/drive/MyDrive/Depth Estimation Project/Videos_without_Audio/test/24_10-07-2023.mp4: 480x800 3 LMVs, 1 RoadDamages, 15.5ms\n",
            "video 1/1 (199/329) /content/drive/MyDrive/Depth Estimation Project/Videos_without_Audio/test/24_10-07-2023.mp4: 480x800 3 LMVs, 2 RoadDamagess, 15.4ms\n",
            "video 1/1 (200/329) /content/drive/MyDrive/Depth Estimation Project/Videos_without_Audio/test/24_10-07-2023.mp4: 480x800 3 LMVs, 4 RoadDamagess, 1 SpeedBump, 15.5ms\n",
            "video 1/1 (201/329) /content/drive/MyDrive/Depth Estimation Project/Videos_without_Audio/test/24_10-07-2023.mp4: 480x800 3 LMVs, 3 RoadDamagess, 15.4ms\n",
            "video 1/1 (202/329) /content/drive/MyDrive/Depth Estimation Project/Videos_without_Audio/test/24_10-07-2023.mp4: 480x800 3 LMVs, 2 RoadDamagess, 1 SpeedBump, 15.5ms\n",
            "video 1/1 (203/329) /content/drive/MyDrive/Depth Estimation Project/Videos_without_Audio/test/24_10-07-2023.mp4: 480x800 3 LMVs, 2 RoadDamagess, 15.5ms\n",
            "video 1/1 (204/329) /content/drive/MyDrive/Depth Estimation Project/Videos_without_Audio/test/24_10-07-2023.mp4: 480x800 3 LMVs, 2 RoadDamagess, 15.5ms\n",
            "video 1/1 (205/329) /content/drive/MyDrive/Depth Estimation Project/Videos_without_Audio/test/24_10-07-2023.mp4: 480x800 3 LMVs, 2 RoadDamagess, 15.5ms\n",
            "video 1/1 (206/329) /content/drive/MyDrive/Depth Estimation Project/Videos_without_Audio/test/24_10-07-2023.mp4: 480x800 3 LMVs, 3 RoadDamagess, 15.4ms\n",
            "video 1/1 (207/329) /content/drive/MyDrive/Depth Estimation Project/Videos_without_Audio/test/24_10-07-2023.mp4: 480x800 3 LMVs, 3 RoadDamagess, 1 SpeedBump, 15.5ms\n",
            "video 1/1 (208/329) /content/drive/MyDrive/Depth Estimation Project/Videos_without_Audio/test/24_10-07-2023.mp4: 480x800 3 LMVs, 4 RoadDamagess, 1 SpeedBump, 15.5ms\n",
            "video 1/1 (209/329) /content/drive/MyDrive/Depth Estimation Project/Videos_without_Audio/test/24_10-07-2023.mp4: 480x800 3 LMVs, 3 RoadDamagess, 1 SpeedBump, 15.5ms\n",
            "video 1/1 (210/329) /content/drive/MyDrive/Depth Estimation Project/Videos_without_Audio/test/24_10-07-2023.mp4: 480x800 3 LMVs, 2 RoadDamagess, 1 SpeedBump, 15.5ms\n",
            "video 1/1 (211/329) /content/drive/MyDrive/Depth Estimation Project/Videos_without_Audio/test/24_10-07-2023.mp4: 480x800 3 LMVs, 2 RoadDamagess, 1 UnsurfacedRoad, 15.5ms\n",
            "video 1/1 (212/329) /content/drive/MyDrive/Depth Estimation Project/Videos_without_Audio/test/24_10-07-2023.mp4: 480x800 3 LMVs, 2 RoadDamagess, 15.5ms\n",
            "video 1/1 (213/329) /content/drive/MyDrive/Depth Estimation Project/Videos_without_Audio/test/24_10-07-2023.mp4: 480x800 3 LMVs, 1 RoadDamages, 15.5ms\n",
            "video 1/1 (214/329) /content/drive/MyDrive/Depth Estimation Project/Videos_without_Audio/test/24_10-07-2023.mp4: 480x800 3 LMVs, 3 RoadDamagess, 15.5ms\n",
            "video 1/1 (215/329) /content/drive/MyDrive/Depth Estimation Project/Videos_without_Audio/test/24_10-07-2023.mp4: 480x800 3 LMVs, 1 RoadDamages, 15.5ms\n",
            "video 1/1 (216/329) /content/drive/MyDrive/Depth Estimation Project/Videos_without_Audio/test/24_10-07-2023.mp4: 480x800 4 LMVs, 15.4ms\n",
            "video 1/1 (217/329) /content/drive/MyDrive/Depth Estimation Project/Videos_without_Audio/test/24_10-07-2023.mp4: 480x800 4 LMVs, 15.5ms\n",
            "video 1/1 (218/329) /content/drive/MyDrive/Depth Estimation Project/Videos_without_Audio/test/24_10-07-2023.mp4: 480x800 4 LMVs, 15.5ms\n",
            "video 1/1 (219/329) /content/drive/MyDrive/Depth Estimation Project/Videos_without_Audio/test/24_10-07-2023.mp4: 480x800 4 LMVs, 15.5ms\n",
            "video 1/1 (220/329) /content/drive/MyDrive/Depth Estimation Project/Videos_without_Audio/test/24_10-07-2023.mp4: 480x800 4 LMVs, 15.5ms\n",
            "video 1/1 (221/329) /content/drive/MyDrive/Depth Estimation Project/Videos_without_Audio/test/24_10-07-2023.mp4: 480x800 4 LMVs, 15.4ms\n",
            "video 1/1 (222/329) /content/drive/MyDrive/Depth Estimation Project/Videos_without_Audio/test/24_10-07-2023.mp4: 480x800 5 LMVs, 15.5ms\n",
            "video 1/1 (223/329) /content/drive/MyDrive/Depth Estimation Project/Videos_without_Audio/test/24_10-07-2023.mp4: 480x800 4 LMVs, 15.5ms\n",
            "video 1/1 (224/329) /content/drive/MyDrive/Depth Estimation Project/Videos_without_Audio/test/24_10-07-2023.mp4: 480x800 5 LMVs, 15.5ms\n",
            "video 1/1 (225/329) /content/drive/MyDrive/Depth Estimation Project/Videos_without_Audio/test/24_10-07-2023.mp4: 480x800 7 LMVs, 15.5ms\n",
            "video 1/1 (226/329) /content/drive/MyDrive/Depth Estimation Project/Videos_without_Audio/test/24_10-07-2023.mp4: 480x800 6 LMVs, 15.5ms\n",
            "video 1/1 (227/329) /content/drive/MyDrive/Depth Estimation Project/Videos_without_Audio/test/24_10-07-2023.mp4: 480x800 4 LMVs, 17.2ms\n",
            "video 1/1 (228/329) /content/drive/MyDrive/Depth Estimation Project/Videos_without_Audio/test/24_10-07-2023.mp4: 480x800 7 LMVs, 15.5ms\n",
            "video 1/1 (229/329) /content/drive/MyDrive/Depth Estimation Project/Videos_without_Audio/test/24_10-07-2023.mp4: 480x800 5 LMVs, 16.3ms\n",
            "video 1/1 (230/329) /content/drive/MyDrive/Depth Estimation Project/Videos_without_Audio/test/24_10-07-2023.mp4: 480x800 4 LMVs, 15.5ms\n",
            "video 1/1 (231/329) /content/drive/MyDrive/Depth Estimation Project/Videos_without_Audio/test/24_10-07-2023.mp4: 480x800 4 LMVs, 15.5ms\n",
            "video 1/1 (232/329) /content/drive/MyDrive/Depth Estimation Project/Videos_without_Audio/test/24_10-07-2023.mp4: 480x800 4 LMVs, 16.1ms\n",
            "video 1/1 (233/329) /content/drive/MyDrive/Depth Estimation Project/Videos_without_Audio/test/24_10-07-2023.mp4: 480x800 4 LMVs, 15.5ms\n",
            "video 1/1 (234/329) /content/drive/MyDrive/Depth Estimation Project/Videos_without_Audio/test/24_10-07-2023.mp4: 480x800 3 LMVs, 15.5ms\n",
            "video 1/1 (235/329) /content/drive/MyDrive/Depth Estimation Project/Videos_without_Audio/test/24_10-07-2023.mp4: 480x800 4 LMVs, 17.3ms\n",
            "video 1/1 (236/329) /content/drive/MyDrive/Depth Estimation Project/Videos_without_Audio/test/24_10-07-2023.mp4: 480x800 4 LMVs, 19.2ms\n",
            "video 1/1 (237/329) /content/drive/MyDrive/Depth Estimation Project/Videos_without_Audio/test/24_10-07-2023.mp4: 480x800 4 LMVs, 15.5ms\n",
            "video 1/1 (238/329) /content/drive/MyDrive/Depth Estimation Project/Videos_without_Audio/test/24_10-07-2023.mp4: 480x800 4 LMVs, 15.5ms\n",
            "video 1/1 (239/329) /content/drive/MyDrive/Depth Estimation Project/Videos_without_Audio/test/24_10-07-2023.mp4: 480x800 4 LMVs, 15.5ms\n",
            "video 1/1 (240/329) /content/drive/MyDrive/Depth Estimation Project/Videos_without_Audio/test/24_10-07-2023.mp4: 480x800 4 LMVs, 15.5ms\n",
            "video 1/1 (241/329) /content/drive/MyDrive/Depth Estimation Project/Videos_without_Audio/test/24_10-07-2023.mp4: 480x800 4 LMVs, 3 RoadDamagess, 24.8ms\n",
            "video 1/1 (242/329) /content/drive/MyDrive/Depth Estimation Project/Videos_without_Audio/test/24_10-07-2023.mp4: 480x800 5 LMVs, 16.4ms\n",
            "video 1/1 (243/329) /content/drive/MyDrive/Depth Estimation Project/Videos_without_Audio/test/24_10-07-2023.mp4: 480x800 4 LMVs, 2 RoadDamagess, 21.5ms\n",
            "video 1/1 (244/329) /content/drive/MyDrive/Depth Estimation Project/Videos_without_Audio/test/24_10-07-2023.mp4: 480x800 5 LMVs, 1 RoadDamages, 18.2ms\n",
            "video 1/1 (245/329) /content/drive/MyDrive/Depth Estimation Project/Videos_without_Audio/test/24_10-07-2023.mp4: 480x800 5 LMVs, 2 RoadDamagess, 21.0ms\n",
            "video 1/1 (246/329) /content/drive/MyDrive/Depth Estimation Project/Videos_without_Audio/test/24_10-07-2023.mp4: 480x800 4 LMVs, 2 RoadDamagess, 15.6ms\n",
            "video 1/1 (247/329) /content/drive/MyDrive/Depth Estimation Project/Videos_without_Audio/test/24_10-07-2023.mp4: 480x800 4 LMVs, 1 RoadDamages, 1 SpeedBump, 15.5ms\n",
            "video 1/1 (248/329) /content/drive/MyDrive/Depth Estimation Project/Videos_without_Audio/test/24_10-07-2023.mp4: 480x800 4 LMVs, 1 RoadDamages, 2 SpeedBumps, 15.5ms\n",
            "video 1/1 (249/329) /content/drive/MyDrive/Depth Estimation Project/Videos_without_Audio/test/24_10-07-2023.mp4: 480x800 4 LMVs, 2 RoadDamagess, 1 SpeedBump, 15.5ms\n",
            "video 1/1 (250/329) /content/drive/MyDrive/Depth Estimation Project/Videos_without_Audio/test/24_10-07-2023.mp4: 480x800 4 LMVs, 2 RoadDamagess, 15.5ms\n",
            "video 1/1 (251/329) /content/drive/MyDrive/Depth Estimation Project/Videos_without_Audio/test/24_10-07-2023.mp4: 480x800 4 LMVs, 2 RoadDamagess, 1 SpeedBump, 15.5ms\n",
            "video 1/1 (252/329) /content/drive/MyDrive/Depth Estimation Project/Videos_without_Audio/test/24_10-07-2023.mp4: 480x800 4 LMVs, 3 RoadDamagess, 1 SpeedBump, 1 UnsurfacedRoad, 15.5ms\n",
            "video 1/1 (253/329) /content/drive/MyDrive/Depth Estimation Project/Videos_without_Audio/test/24_10-07-2023.mp4: 480x800 4 LMVs, 3 RoadDamagess, 15.5ms\n",
            "video 1/1 (254/329) /content/drive/MyDrive/Depth Estimation Project/Videos_without_Audio/test/24_10-07-2023.mp4: 480x800 4 LMVs, 3 RoadDamagess, 15.5ms\n",
            "video 1/1 (255/329) /content/drive/MyDrive/Depth Estimation Project/Videos_without_Audio/test/24_10-07-2023.mp4: 480x800 4 LMVs, 15.5ms\n",
            "video 1/1 (256/329) /content/drive/MyDrive/Depth Estimation Project/Videos_without_Audio/test/24_10-07-2023.mp4: 480x800 4 LMVs, 15.5ms\n",
            "video 1/1 (257/329) /content/drive/MyDrive/Depth Estimation Project/Videos_without_Audio/test/24_10-07-2023.mp4: 480x800 4 LMVs, 1 RoadDamages, 18.4ms\n",
            "video 1/1 (258/329) /content/drive/MyDrive/Depth Estimation Project/Videos_without_Audio/test/24_10-07-2023.mp4: 480x800 4 LMVs, 1 RoadDamages, 21.5ms\n",
            "video 1/1 (259/329) /content/drive/MyDrive/Depth Estimation Project/Videos_without_Audio/test/24_10-07-2023.mp4: 480x800 4 LMVs, 20.8ms\n",
            "video 1/1 (260/329) /content/drive/MyDrive/Depth Estimation Project/Videos_without_Audio/test/24_10-07-2023.mp4: 480x800 4 LMVs, 15.5ms\n",
            "video 1/1 (261/329) /content/drive/MyDrive/Depth Estimation Project/Videos_without_Audio/test/24_10-07-2023.mp4: 480x800 4 LMVs, 1 RoadDamages, 20.3ms\n",
            "video 1/1 (262/329) /content/drive/MyDrive/Depth Estimation Project/Videos_without_Audio/test/24_10-07-2023.mp4: 480x800 4 LMVs, 1 RoadDamages, 15.5ms\n",
            "video 1/1 (263/329) /content/drive/MyDrive/Depth Estimation Project/Videos_without_Audio/test/24_10-07-2023.mp4: 480x800 4 LMVs, 15.5ms\n",
            "video 1/1 (264/329) /content/drive/MyDrive/Depth Estimation Project/Videos_without_Audio/test/24_10-07-2023.mp4: 480x800 3 LMVs, 22.4ms\n",
            "video 1/1 (265/329) /content/drive/MyDrive/Depth Estimation Project/Videos_without_Audio/test/24_10-07-2023.mp4: 480x800 3 LMVs, 16.4ms\n",
            "video 1/1 (266/329) /content/drive/MyDrive/Depth Estimation Project/Videos_without_Audio/test/24_10-07-2023.mp4: 480x800 3 LMVs, 15.7ms\n",
            "video 1/1 (267/329) /content/drive/MyDrive/Depth Estimation Project/Videos_without_Audio/test/24_10-07-2023.mp4: 480x800 3 LMVs, 15.5ms\n",
            "video 1/1 (268/329) /content/drive/MyDrive/Depth Estimation Project/Videos_without_Audio/test/24_10-07-2023.mp4: 480x800 3 LMVs, 1 RoadDamages, 21.9ms\n",
            "video 1/1 (269/329) /content/drive/MyDrive/Depth Estimation Project/Videos_without_Audio/test/24_10-07-2023.mp4: 480x800 3 LMVs, 15.4ms\n",
            "video 1/1 (270/329) /content/drive/MyDrive/Depth Estimation Project/Videos_without_Audio/test/24_10-07-2023.mp4: 480x800 3 LMVs, 1 RoadDamages, 15.5ms\n",
            "video 1/1 (271/329) /content/drive/MyDrive/Depth Estimation Project/Videos_without_Audio/test/24_10-07-2023.mp4: 480x800 3 LMVs, 1 RoadDamages, 15.5ms\n",
            "video 1/1 (272/329) /content/drive/MyDrive/Depth Estimation Project/Videos_without_Audio/test/24_10-07-2023.mp4: 480x800 3 LMVs, 15.5ms\n",
            "video 1/1 (273/329) /content/drive/MyDrive/Depth Estimation Project/Videos_without_Audio/test/24_10-07-2023.mp4: 480x800 3 LMVs, 16.4ms\n",
            "video 1/1 (274/329) /content/drive/MyDrive/Depth Estimation Project/Videos_without_Audio/test/24_10-07-2023.mp4: 480x800 3 LMVs, 15.5ms\n",
            "video 1/1 (275/329) /content/drive/MyDrive/Depth Estimation Project/Videos_without_Audio/test/24_10-07-2023.mp4: 480x800 3 LMVs, 15.5ms\n",
            "video 1/1 (276/329) /content/drive/MyDrive/Depth Estimation Project/Videos_without_Audio/test/24_10-07-2023.mp4: 480x800 3 LMVs, 15.5ms\n",
            "video 1/1 (277/329) /content/drive/MyDrive/Depth Estimation Project/Videos_without_Audio/test/24_10-07-2023.mp4: 480x800 3 LMVs, 1 RoadDamages, 15.5ms\n",
            "video 1/1 (278/329) /content/drive/MyDrive/Depth Estimation Project/Videos_without_Audio/test/24_10-07-2023.mp4: 480x800 3 LMVs, 15.5ms\n",
            "video 1/1 (279/329) /content/drive/MyDrive/Depth Estimation Project/Videos_without_Audio/test/24_10-07-2023.mp4: 480x800 3 LMVs, 15.5ms\n",
            "video 1/1 (280/329) /content/drive/MyDrive/Depth Estimation Project/Videos_without_Audio/test/24_10-07-2023.mp4: 480x800 3 LMVs, 15.5ms\n",
            "video 1/1 (281/329) /content/drive/MyDrive/Depth Estimation Project/Videos_without_Audio/test/24_10-07-2023.mp4: 480x800 3 LMVs, 15.5ms\n",
            "video 1/1 (282/329) /content/drive/MyDrive/Depth Estimation Project/Videos_without_Audio/test/24_10-07-2023.mp4: 480x800 3 LMVs, 2 RoadDamagess, 15.5ms\n",
            "video 1/1 (283/329) /content/drive/MyDrive/Depth Estimation Project/Videos_without_Audio/test/24_10-07-2023.mp4: 480x800 2 LMVs, 15.5ms\n",
            "video 1/1 (284/329) /content/drive/MyDrive/Depth Estimation Project/Videos_without_Audio/test/24_10-07-2023.mp4: 480x800 3 LMVs, 15.5ms\n",
            "video 1/1 (285/329) /content/drive/MyDrive/Depth Estimation Project/Videos_without_Audio/test/24_10-07-2023.mp4: 480x800 2 LMVs, 1 RoadDamages, 15.5ms\n",
            "video 1/1 (286/329) /content/drive/MyDrive/Depth Estimation Project/Videos_without_Audio/test/24_10-07-2023.mp4: 480x800 3 LMVs, 16.4ms\n",
            "video 1/1 (287/329) /content/drive/MyDrive/Depth Estimation Project/Videos_without_Audio/test/24_10-07-2023.mp4: 480x800 3 LMVs, 15.6ms\n",
            "video 1/1 (288/329) /content/drive/MyDrive/Depth Estimation Project/Videos_without_Audio/test/24_10-07-2023.mp4: 480x800 4 LMVs, 22.5ms\n",
            "video 1/1 (289/329) /content/drive/MyDrive/Depth Estimation Project/Videos_without_Audio/test/24_10-07-2023.mp4: 480x800 4 LMVs, 15.5ms\n",
            "video 1/1 (290/329) /content/drive/MyDrive/Depth Estimation Project/Videos_without_Audio/test/24_10-07-2023.mp4: 480x800 4 LMVs, 15.5ms\n",
            "video 1/1 (291/329) /content/drive/MyDrive/Depth Estimation Project/Videos_without_Audio/test/24_10-07-2023.mp4: 480x800 4 LMVs, 15.5ms\n",
            "video 1/1 (292/329) /content/drive/MyDrive/Depth Estimation Project/Videos_without_Audio/test/24_10-07-2023.mp4: 480x800 4 LMVs, 17.5ms\n",
            "video 1/1 (293/329) /content/drive/MyDrive/Depth Estimation Project/Videos_without_Audio/test/24_10-07-2023.mp4: 480x800 4 LMVs, 15.5ms\n",
            "video 1/1 (294/329) /content/drive/MyDrive/Depth Estimation Project/Videos_without_Audio/test/24_10-07-2023.mp4: 480x800 4 LMVs, 15.5ms\n",
            "video 1/1 (295/329) /content/drive/MyDrive/Depth Estimation Project/Videos_without_Audio/test/24_10-07-2023.mp4: 480x800 4 LMVs, 15.5ms\n",
            "video 1/1 (296/329) /content/drive/MyDrive/Depth Estimation Project/Videos_without_Audio/test/24_10-07-2023.mp4: 480x800 3 LMVs, 15.5ms\n",
            "video 1/1 (297/329) /content/drive/MyDrive/Depth Estimation Project/Videos_without_Audio/test/24_10-07-2023.mp4: 480x800 4 LMVs, 15.5ms\n",
            "video 1/1 (298/329) /content/drive/MyDrive/Depth Estimation Project/Videos_without_Audio/test/24_10-07-2023.mp4: 480x800 3 LMVs, 15.5ms\n",
            "video 1/1 (299/329) /content/drive/MyDrive/Depth Estimation Project/Videos_without_Audio/test/24_10-07-2023.mp4: 480x800 3 LMVs, 2 RoadDamagess, 15.5ms\n",
            "video 1/1 (300/329) /content/drive/MyDrive/Depth Estimation Project/Videos_without_Audio/test/24_10-07-2023.mp4: 480x800 3 LMVs, 1 RoadDamages, 15.5ms\n",
            "video 1/1 (301/329) /content/drive/MyDrive/Depth Estimation Project/Videos_without_Audio/test/24_10-07-2023.mp4: 480x800 3 LMVs, 1 RoadDamages, 15.5ms\n",
            "video 1/1 (302/329) /content/drive/MyDrive/Depth Estimation Project/Videos_without_Audio/test/24_10-07-2023.mp4: 480x800 3 LMVs, 1 RoadDamages, 15.5ms\n",
            "video 1/1 (303/329) /content/drive/MyDrive/Depth Estimation Project/Videos_without_Audio/test/24_10-07-2023.mp4: 480x800 3 LMVs, 5 RoadDamagess, 15.5ms\n",
            "video 1/1 (304/329) /content/drive/MyDrive/Depth Estimation Project/Videos_without_Audio/test/24_10-07-2023.mp4: 480x800 3 LMVs, 4 RoadDamagess, 15.5ms\n",
            "video 1/1 (305/329) /content/drive/MyDrive/Depth Estimation Project/Videos_without_Audio/test/24_10-07-2023.mp4: 480x800 3 LMVs, 2 RoadDamagess, 15.5ms\n",
            "video 1/1 (306/329) /content/drive/MyDrive/Depth Estimation Project/Videos_without_Audio/test/24_10-07-2023.mp4: 480x800 4 LMVs, 3 RoadDamagess, 15.5ms\n",
            "video 1/1 (307/329) /content/drive/MyDrive/Depth Estimation Project/Videos_without_Audio/test/24_10-07-2023.mp4: 480x800 4 LMVs, 2 RoadDamagess, 15.5ms\n",
            "video 1/1 (308/329) /content/drive/MyDrive/Depth Estimation Project/Videos_without_Audio/test/24_10-07-2023.mp4: 480x800 3 LMVs, 1 RoadDamages, 15.5ms\n",
            "video 1/1 (309/329) /content/drive/MyDrive/Depth Estimation Project/Videos_without_Audio/test/24_10-07-2023.mp4: 480x800 4 LMVs, 2 RoadDamagess, 15.5ms\n",
            "video 1/1 (310/329) /content/drive/MyDrive/Depth Estimation Project/Videos_without_Audio/test/24_10-07-2023.mp4: 480x800 3 LMVs, 4 RoadDamagess, 15.5ms\n",
            "video 1/1 (311/329) /content/drive/MyDrive/Depth Estimation Project/Videos_without_Audio/test/24_10-07-2023.mp4: 480x800 3 LMVs, 3 RoadDamagess, 15.5ms\n",
            "video 1/1 (312/329) /content/drive/MyDrive/Depth Estimation Project/Videos_without_Audio/test/24_10-07-2023.mp4: 480x800 3 LMVs, 2 RoadDamagess, 15.5ms\n",
            "video 1/1 (313/329) /content/drive/MyDrive/Depth Estimation Project/Videos_without_Audio/test/24_10-07-2023.mp4: 480x800 3 LMVs, 15.5ms\n",
            "video 1/1 (314/329) /content/drive/MyDrive/Depth Estimation Project/Videos_without_Audio/test/24_10-07-2023.mp4: 480x800 3 LMVs, 1 RoadDamages, 15.5ms\n",
            "video 1/1 (315/329) /content/drive/MyDrive/Depth Estimation Project/Videos_without_Audio/test/24_10-07-2023.mp4: 480x800 3 LMVs, 4 RoadDamagess, 17.3ms\n",
            "video 1/1 (316/329) /content/drive/MyDrive/Depth Estimation Project/Videos_without_Audio/test/24_10-07-2023.mp4: 480x800 3 LMVs, 15.5ms\n",
            "video 1/1 (317/329) /content/drive/MyDrive/Depth Estimation Project/Videos_without_Audio/test/24_10-07-2023.mp4: 480x800 3 LMVs, 1 RoadDamages, 15.5ms\n",
            "video 1/1 (318/329) /content/drive/MyDrive/Depth Estimation Project/Videos_without_Audio/test/24_10-07-2023.mp4: 480x800 3 LMVs, 15.5ms\n",
            "video 1/1 (319/329) /content/drive/MyDrive/Depth Estimation Project/Videos_without_Audio/test/24_10-07-2023.mp4: 480x800 3 LMVs, 15.5ms\n",
            "video 1/1 (320/329) /content/drive/MyDrive/Depth Estimation Project/Videos_without_Audio/test/24_10-07-2023.mp4: 480x800 3 LMVs, 15.5ms\n",
            "video 1/1 (321/329) /content/drive/MyDrive/Depth Estimation Project/Videos_without_Audio/test/24_10-07-2023.mp4: 480x800 3 LMVs, 15.5ms\n",
            "video 1/1 (322/329) /content/drive/MyDrive/Depth Estimation Project/Videos_without_Audio/test/24_10-07-2023.mp4: 480x800 4 LMVs, 15.4ms\n",
            "video 1/1 (323/329) /content/drive/MyDrive/Depth Estimation Project/Videos_without_Audio/test/24_10-07-2023.mp4: 480x800 4 LMVs, 15.5ms\n",
            "video 1/1 (324/329) /content/drive/MyDrive/Depth Estimation Project/Videos_without_Audio/test/24_10-07-2023.mp4: 480x800 3 LMVs, 15.5ms\n",
            "video 1/1 (325/329) /content/drive/MyDrive/Depth Estimation Project/Videos_without_Audio/test/24_10-07-2023.mp4: 480x800 3 LMVs, 15.4ms\n",
            "video 1/1 (326/329) /content/drive/MyDrive/Depth Estimation Project/Videos_without_Audio/test/24_10-07-2023.mp4: 480x800 3 LMVs, 15.4ms\n",
            "video 1/1 (327/329) /content/drive/MyDrive/Depth Estimation Project/Videos_without_Audio/test/24_10-07-2023.mp4: 480x800 3 LMVs, 15.5ms\n",
            "video 1/1 (328/329) /content/drive/MyDrive/Depth Estimation Project/Videos_without_Audio/test/24_10-07-2023.mp4: 480x800 3 LMVs, 15.4ms\n",
            "video 1/1 (329/329) /content/drive/MyDrive/Depth Estimation Project/Videos_without_Audio/test/24_10-07-2023.mp4: 480x800 3 LMVs, 15.4ms\n",
            "Speed: 0.9ms pre-process, 16.1ms inference, 2.9ms postprocess per image at shape (1, 3, 800, 800)\n",
            "Results saved to \u001b[1mruns/detect/predict\u001b[0m\n"
          ]
        }
      ]
    },
    {
      "cell_type": "code",
      "source": [
        "result=\"/content/runs/detect/predict2/24_10-07-2023.mp4\""
      ],
      "metadata": {
        "id": "pyaeA1DRi1B9"
      },
      "execution_count": null,
      "outputs": []
    },
    {
      "cell_type": "code",
      "source": [
        "result"
      ],
      "metadata": {
        "colab": {
          "base_uri": "https://localhost:8080/",
          "height": 36
        },
        "id": "WhMTory1i45T",
        "outputId": "0c366abc-ad26-4dd0-dce3-1757c43fee56"
      },
      "execution_count": null,
      "outputs": [
        {
          "output_type": "execute_result",
          "data": {
            "text/plain": [
              "'/content/runs/detect/predict2/24_10-07-2023.mp4'"
            ],
            "application/vnd.google.colaboratory.intrinsic+json": {
              "type": "string"
            }
          },
          "metadata": {},
          "execution_count": 12
        }
      ]
    },
    {
      "cell_type": "code",
      "source": [
        "import cv2"
      ],
      "metadata": {
        "id": "EaGHSWFZjL7Z"
      },
      "execution_count": null,
      "outputs": []
    },
    {
      "cell_type": "code",
      "source": [
        "pip install timm"
      ],
      "metadata": {
        "colab": {
          "base_uri": "https://localhost:8080/"
        },
        "id": "von1c_V0lq33",
        "outputId": "33efbf58-a5b0-4cbf-a3b9-b2cfb2b83865"
      },
      "execution_count": null,
      "outputs": [
        {
          "output_type": "stream",
          "name": "stdout",
          "text": [
            "Collecting timm\n",
            "  Downloading timm-0.9.5-py3-none-any.whl (2.2 MB)\n",
            "\u001b[?25l     \u001b[90m━━━━━━━━━━━━━━━━━━━━━━━━━━━━━━━━━━━━━━━━\u001b[0m \u001b[32m0.0/2.2 MB\u001b[0m \u001b[31m?\u001b[0m eta \u001b[36m-:--:--\u001b[0m\r\u001b[2K     \u001b[91m━\u001b[0m\u001b[90m╺\u001b[0m\u001b[90m━━━━━━━━━━━━━━━━━━━━━━━━━━━━━━━━━━━━━━\u001b[0m \u001b[32m0.1/2.2 MB\u001b[0m \u001b[31m2.0 MB/s\u001b[0m eta \u001b[36m0:00:02\u001b[0m\r\u001b[2K     \u001b[91m━━━━━━━━━━━━━━━━━━━━━━━━━━━━━━━━━━━━━━━\u001b[0m\u001b[91m╸\u001b[0m \u001b[32m2.2/2.2 MB\u001b[0m \u001b[31m36.5 MB/s\u001b[0m eta \u001b[36m0:00:01\u001b[0m\r\u001b[2K     \u001b[90m━━━━━━━━━━━━━━━━━━━━━━━━━━━━━━━━━━━━━━━━\u001b[0m \u001b[32m2.2/2.2 MB\u001b[0m \u001b[31m29.8 MB/s\u001b[0m eta \u001b[36m0:00:00\u001b[0m\n",
            "\u001b[?25hRequirement already satisfied: torch>=1.7 in /usr/local/lib/python3.10/dist-packages (from timm) (2.0.1+cu118)\n",
            "Requirement already satisfied: torchvision in /usr/local/lib/python3.10/dist-packages (from timm) (0.15.2+cu118)\n",
            "Requirement already satisfied: pyyaml in /usr/local/lib/python3.10/dist-packages (from timm) (6.0.1)\n",
            "Collecting huggingface-hub (from timm)\n",
            "  Downloading huggingface_hub-0.16.4-py3-none-any.whl (268 kB)\n",
            "\u001b[2K     \u001b[90m━━━━━━━━━━━━━━━━━━━━━━━━━━━━━━━━━━━━━━\u001b[0m \u001b[32m268.8/268.8 kB\u001b[0m \u001b[31m32.2 MB/s\u001b[0m eta \u001b[36m0:00:00\u001b[0m\n",
            "\u001b[?25hCollecting safetensors (from timm)\n",
            "  Downloading safetensors-0.3.2-cp310-cp310-manylinux_2_17_x86_64.manylinux2014_x86_64.whl (1.3 MB)\n",
            "\u001b[2K     \u001b[90m━━━━━━━━━━━━━━━━━━━━━━━━━━━━━━━━━━━━━━━━\u001b[0m \u001b[32m1.3/1.3 MB\u001b[0m \u001b[31m59.3 MB/s\u001b[0m eta \u001b[36m0:00:00\u001b[0m\n",
            "\u001b[?25hRequirement already satisfied: filelock in /usr/local/lib/python3.10/dist-packages (from torch>=1.7->timm) (3.12.2)\n",
            "Requirement already satisfied: typing-extensions in /usr/local/lib/python3.10/dist-packages (from torch>=1.7->timm) (4.7.1)\n",
            "Requirement already satisfied: sympy in /usr/local/lib/python3.10/dist-packages (from torch>=1.7->timm) (1.12)\n",
            "Requirement already satisfied: networkx in /usr/local/lib/python3.10/dist-packages (from torch>=1.7->timm) (3.1)\n",
            "Requirement already satisfied: jinja2 in /usr/local/lib/python3.10/dist-packages (from torch>=1.7->timm) (3.1.2)\n",
            "Requirement already satisfied: triton==2.0.0 in /usr/local/lib/python3.10/dist-packages (from torch>=1.7->timm) (2.0.0)\n",
            "Requirement already satisfied: cmake in /usr/local/lib/python3.10/dist-packages (from triton==2.0.0->torch>=1.7->timm) (3.27.2)\n",
            "Requirement already satisfied: lit in /usr/local/lib/python3.10/dist-packages (from triton==2.0.0->torch>=1.7->timm) (16.0.6)\n",
            "Requirement already satisfied: fsspec in /usr/local/lib/python3.10/dist-packages (from huggingface-hub->timm) (2023.6.0)\n",
            "Requirement already satisfied: requests in /usr/local/lib/python3.10/dist-packages (from huggingface-hub->timm) (2.31.0)\n",
            "Requirement already satisfied: tqdm>=4.42.1 in /usr/local/lib/python3.10/dist-packages (from huggingface-hub->timm) (4.66.1)\n",
            "Requirement already satisfied: packaging>=20.9 in /usr/local/lib/python3.10/dist-packages (from huggingface-hub->timm) (23.1)\n",
            "Requirement already satisfied: numpy in /usr/local/lib/python3.10/dist-packages (from torchvision->timm) (1.23.5)\n",
            "Requirement already satisfied: pillow!=8.3.*,>=5.3.0 in /usr/local/lib/python3.10/dist-packages (from torchvision->timm) (9.4.0)\n",
            "Requirement already satisfied: MarkupSafe>=2.0 in /usr/local/lib/python3.10/dist-packages (from jinja2->torch>=1.7->timm) (2.1.3)\n",
            "Requirement already satisfied: charset-normalizer<4,>=2 in /usr/local/lib/python3.10/dist-packages (from requests->huggingface-hub->timm) (3.2.0)\n",
            "Requirement already satisfied: idna<4,>=2.5 in /usr/local/lib/python3.10/dist-packages (from requests->huggingface-hub->timm) (3.4)\n",
            "Requirement already satisfied: urllib3<3,>=1.21.1 in /usr/local/lib/python3.10/dist-packages (from requests->huggingface-hub->timm) (2.0.4)\n",
            "Requirement already satisfied: certifi>=2017.4.17 in /usr/local/lib/python3.10/dist-packages (from requests->huggingface-hub->timm) (2023.7.22)\n",
            "Requirement already satisfied: mpmath>=0.19 in /usr/local/lib/python3.10/dist-packages (from sympy->torch>=1.7->timm) (1.3.0)\n",
            "Installing collected packages: safetensors, huggingface-hub, timm\n",
            "Successfully installed huggingface-hub-0.16.4 safetensors-0.3.2 timm-0.9.5\n"
          ]
        }
      ]
    },
    {
      "cell_type": "code",
      "source": [
        "cv2.VideoCapture(\"/content/runs/detect/predict2/24_10-07-2023.mp4\")"
      ],
      "metadata": {
        "colab": {
          "base_uri": "https://localhost:8080/"
        },
        "id": "v92tzKhGjOON",
        "outputId": "4e654ed1-de4d-4f5e-c407-f5b792aa105e"
      },
      "execution_count": null,
      "outputs": [
        {
          "output_type": "execute_result",
          "data": {
            "text/plain": [
              "< cv2.VideoCapture 0x7f9b314f3c70>"
            ]
          },
          "metadata": {},
          "execution_count": 15
        }
      ]
    },
    {
      "cell_type": "code",
      "source": [
        "import cv2\n",
        "import torch\n",
        "import numpy as np\n",
        "import time\n",
        "\n",
        "# Path to the video file\n",
        "video_path = \"/content/runs/detect/predict2/24_10-07-2023.mp4\"\n",
        "\n",
        "# Model type to use\n",
        "model_type = \"MiDaS_small\"\n",
        "\n",
        "# Load the Midas model\n",
        "midas = torch.hub.load(\"intel-isl/Midas\", model_type)\n",
        "midas_transforms = torch.hub.load(\"intel-isl/MiDaS\", \"transforms\")\n",
        "device = torch.device(\"cuda\" if torch.cuda.is_available() else \"cpu\")\n",
        "\n",
        "midas = midas.to(device)\n",
        "input_batch = input_batch.to(device)\n",
        "# Choose the appropriate transform based on the model type\n",
        "if model_type == \"DPT_Large\" or model_type == \"DPT_Hybrid\":\n",
        "    transform = midas_transforms.dpt_transform\n",
        "else:\n",
        "    transform = midas_transforms.small_transform\n",
        "\n",
        "cap = cv2.VideoCapture(video_path)\n",
        "while cap.isOpened():\n",
        "    success, img = cap.read()\n",
        "\n",
        "    if not success:\n",
        "        break\n",
        "\n",
        "    start = time.time()\n",
        "    img = cv2.cvtColor(img, cv2.COLOR_BGR2RGB)\n",
        "    input_batch = transform(img).to(device)\n",
        "\n",
        "    with torch.no_grad():\n",
        "        prediction = midas(input_batch)\n",
        "\n",
        "        prediction = torch.nn.functional.interpolate(\n",
        "            prediction.unsqueeze(1),\n",
        "            size=img.shape[:2],\n",
        "            mode=\"bicubic\",\n",
        "            align_corners=False,\n",
        "        ).squeeze()\n",
        "\n",
        "    depth_map = prediction.cpu().numpy()\n",
        "    print(depth_map[0])\n",
        "\n",
        "  depth_map = cv2.normalize(depth_map, None, 0, 1, norm_type=cv2.NORM_MINMAX, dtype=cv2.CV_64F)\n",
        "\n",
        "    #end = time.time()\n",
        "   # totalTime = end - start\n",
        "\n",
        "    fps = 1 / totalTime\n",
        "\n",
        "    img = cv2.cvtColor(img, cv2.COLOR_BGR2RGB)\n",
        "\n",
        "  cv2.putText(img, f'FPS: {int(fps)}', (20, 70), cv2.FONT_HERSHEY_SIMPLEX, 1.5, (0, 255, 0), 2)\n",
        "   # cv2.imshow(\"Image\", img)\n",
        "   #cv2.imshow(\"Depth Map\", depth_map)\n",
        "    #f cv2.waitKey(1) & 0xFF == ord('q'):\n",
        "       break\n",
        "\n",
        "cap.release()\n",
        "cv2.destroyAllWindows()\n"
      ],
      "metadata": {
        "colab": {
          "base_uri": "https://localhost:8080/"
        },
        "id": "45cVohV3kzQ_",
        "outputId": "7b19115e-88c9-41de-94f3-d3c96e85783f"
      },
      "execution_count": null,
      "outputs": [
        {
          "output_type": "stream",
          "name": "stderr",
          "text": [
            "Using cache found in /root/.cache/torch/hub/intel-isl_Midas_master\n",
            "Using cache found in /root/.cache/torch/hub/rwightman_gen-efficientnet-pytorch_master\n"
          ]
        },
        {
          "output_type": "stream",
          "name": "stdout",
          "text": [
            "Loading weights:  None\n"
          ]
        },
        {
          "output_type": "stream",
          "name": "stderr",
          "text": [
            "Using cache found in /root/.cache/torch/hub/intel-isl_MiDaS_master\n"
          ]
        },
        {
          "output_type": "stream",
          "name": "stdout",
          "text": [
            "[     299.76      299.77      299.73 ...       195.6      194.73      194.95]\n",
            "[     282.92      282.93      282.88 ...      178.93      178.12      178.32]\n",
            "[     310.62      310.63      310.58 ...      216.86       215.9      216.14]\n",
            "[     239.42      239.44      239.35 ...       168.6      167.83      168.02]\n",
            "[     286.45      286.46      286.41 ...      180.67      179.91       180.1]\n",
            "[     263.09      263.11      263.04 ...       157.5      156.81      156.99]\n",
            "[      303.6       303.6      303.58 ...      158.27      157.61      157.78]\n",
            "[      333.6      333.62      333.56 ...      184.05      183.21      183.42]\n",
            "[     262.77      262.78      262.73 ...      194.05      193.22      193.42]\n",
            "[     311.79      311.81      311.74 ...       251.3      250.21      250.48]\n",
            "[     315.25      315.26      315.22 ...      173.09      172.31      172.51]\n",
            "[        339      339.01      338.96 ...      237.78      236.78      237.03]\n",
            "[     296.24      296.26      296.17 ...      164.18      163.46      163.64]\n",
            "[      277.5       277.5      277.49 ...      203.36      202.45      202.68]\n",
            "[     237.15      237.17      237.09 ...      214.63      213.65      213.89]\n",
            "[     328.68      328.68      328.65 ...      195.52      194.61      194.84]\n",
            "[     308.43      308.46      308.33 ...      178.86      178.06      178.26]\n",
            "[     345.29      345.32      345.22 ...      198.07      197.14      197.38]\n",
            "[     281.29      281.31      281.24 ...      194.41      193.54      193.76]\n",
            "[     323.03      323.05      322.97 ...      246.83      245.77      246.03]\n",
            "[     302.72      302.74      302.64 ...      215.42      214.44      214.69]\n",
            "[     278.33      278.34      278.29 ...      261.36      260.18      260.48]\n",
            "[     310.38       310.4      310.33 ...      196.24      195.32      195.55]\n",
            "[     268.32      268.33      268.28 ...      271.23      269.98      270.29]\n",
            "[     365.66      365.67      365.65 ...      180.73      179.86      180.08]\n",
            "[     322.85      322.86      322.79 ...       202.3      201.39      201.62]\n",
            "[     271.59       271.6      271.55 ...       204.4      203.38      203.63]\n",
            "[     316.34      316.35      316.32 ...      216.54      215.56       215.8]\n",
            "[     303.03      303.04         303 ...      155.78      155.08      155.25]\n",
            "[      265.4      265.42      265.35 ...      176.79      175.99      176.19]\n",
            "[     281.26      281.26      281.26 ...      156.57      155.85      156.03]\n",
            "[     349.02      349.03      348.98 ...      141.01      140.33       140.5]\n",
            "[     316.55      316.56      316.53 ...      135.21      134.57      134.73]\n",
            "[     254.16      254.17      254.14 ...      164.65       163.9      164.09]\n",
            "[     251.07      251.07      251.07 ...      137.99      137.34       137.5]\n",
            "[     260.88       260.9      260.79 ...      151.14      150.45      150.62]\n",
            "[     283.86      283.86      283.86 ...      194.67      193.76      193.99]\n",
            "[     293.34      293.35       293.3 ...      169.93      169.13      169.33]\n",
            "[     257.39       257.4      257.36 ...      160.68      159.91      160.11]\n",
            "[     246.73      246.75      246.67 ...      174.72      173.89       174.1]\n",
            "[     256.58      256.59      256.54 ...      159.26      158.52      158.71]\n",
            "[     241.62      241.63      241.57 ...      165.65      164.87      165.07]\n",
            "[     263.44      263.46      263.38 ...      146.42      145.81      145.96]\n",
            "[     301.44      301.45      301.41 ...      139.03      138.41      138.57]\n",
            "[     269.72      269.73       269.7 ...      147.93      147.22       147.4]\n",
            "[     305.85      305.85      305.85 ...      134.23      133.62      133.77]\n",
            "[     288.44      288.45      288.39 ...      160.44      159.66      159.85]\n",
            "[     273.49      273.49      273.46 ...      148.94      148.22       148.4]\n",
            "[     272.03      272.05      271.96 ...      124.95      124.42      124.55]\n",
            "[        287      287.02      286.96 ...      128.02      127.42      127.57]\n",
            "[     251.26      251.29      251.17 ...      123.96      123.39      123.53]\n",
            "[     349.18      349.19      349.16 ...         134      133.35      133.51]\n",
            "[     323.99      324.01      323.92 ...      115.99      115.43      115.57]\n",
            "[     302.94      302.96      302.87 ...      132.27      131.66      131.81]\n",
            "[     277.33      277.35      277.27 ...      127.28      126.68      126.83]\n",
            "[     232.61      232.63      232.58 ...      134.64      133.99      134.16]\n",
            "[     290.82      290.82      290.81 ...      136.57      135.92      136.08]\n",
            "[     272.31      272.32      272.26 ...      140.98      140.28      140.45]\n",
            "[     249.51      249.54      249.44 ...      95.061       94.63      94.738]\n",
            "[     285.27      285.28      285.24 ...      126.08      125.34      125.53]\n",
            "[     263.63      263.66      263.56 ...      134.34       133.6      133.79]\n",
            "[     340.29      340.31      340.24 ...      121.67         121      121.17]\n",
            "[      265.9      265.92      265.85 ...      125.31      124.64      124.81]\n",
            "[     307.58      307.61      307.51 ...      154.87      154.04      154.25]\n",
            "[     280.69      280.71      280.64 ...      161.35       160.6      160.79]\n",
            "[     332.75      332.76      332.71 ...      127.23      126.59      126.75]\n",
            "[     287.79      287.81      287.71 ...      104.57      104.08       104.2]\n",
            "[     264.26      264.29      264.17 ...      123.84      123.24      123.39]\n",
            "[     260.48       260.5      260.41 ...      106.44      105.96      106.08]\n",
            "[     227.08      227.11      227.01 ...      90.094      89.685      89.788]\n",
            "[     236.07      236.09      235.99 ...      107.49      107.05      107.16]\n",
            "[     270.76      270.77      270.71 ...      125.23      124.77      124.88]\n",
            "[     292.94      292.96       292.9 ...      117.62      117.19       117.3]\n",
            "[     288.39      288.41      288.35 ...      120.03      119.61      119.72]\n",
            "[     235.05      235.06         235 ...      126.47      126.01      126.13]\n",
            "[     288.91      288.94      288.82 ...      121.43      121.04      121.14]\n",
            "[     261.54      261.57      261.45 ...      132.47      131.96      132.09]\n",
            "[     267.52      267.54      267.45 ...      141.32      140.83      140.95]\n",
            "[     294.72      294.73      294.67 ...      136.74      136.28      136.39]\n",
            "[     319.84      319.86      319.79 ...       134.2      133.75      133.87]\n",
            "[     274.63      274.64      274.59 ...      136.38      135.89      136.01]\n",
            "[     282.97      282.98      282.93 ...      132.34      131.83      131.96]\n",
            "[      271.8      271.81      271.77 ...      148.27      147.66      147.81]\n",
            "[     306.69      306.69      306.67 ...      152.18       151.5      151.67]\n",
            "[     391.31      391.32      391.29 ...      121.61      121.01      121.16]\n",
            "[     235.51      235.53      235.44 ...      174.11      173.06      173.33]\n",
            "[     298.95      298.97      298.89 ...      113.71      113.26      113.37]\n",
            "[     260.57      260.59       260.5 ...      159.31      158.46      158.68]\n",
            "[      324.1      324.13      324.01 ...      145.02      144.36      144.52]\n",
            "[     255.95      255.98      255.87 ...      137.59      136.75      136.96]\n",
            "[     299.91      299.93      299.87 ...      172.04      170.92       171.2]\n",
            "[     337.76      337.77      337.73 ...       143.9      142.98      143.21]\n",
            "[     332.34      332.35      332.28 ...      187.39      186.35      186.61]\n",
            "[     343.62      343.64      343.57 ...      160.63      159.73      159.96]\n",
            "[     217.52      217.54      217.46 ...      190.31      189.33      189.58]\n",
            "[     243.63      243.66      243.54 ...      223.15      222.12      222.38]\n",
            "[     275.81      275.82      275.78 ...       179.8      178.97      179.18]\n",
            "[     268.64      268.66      268.58 ...      199.19      198.23      198.47]\n",
            "[     296.64      296.65      296.61 ...      205.68      204.71      204.95]\n",
            "[     275.64      275.66       275.6 ...       214.6      213.59      213.84]\n",
            "[     363.99         364      363.97 ...      180.95      180.14      180.34]\n",
            "[     342.91      342.93      342.88 ...      196.94      196.05      196.27]\n",
            "[     322.59      322.61      322.52 ...      204.34      203.46      203.68]\n",
            "[     314.08      314.09      314.04 ...       225.3      224.31      224.56]\n",
            "[     303.49      303.51      303.44 ...      260.96      259.79      260.08]\n",
            "[     285.65      285.66      285.63 ...      212.17      211.23      211.46]\n",
            "[     282.71      282.73      282.67 ...      224.56      223.53      223.79]\n",
            "[     261.32      261.33      261.29 ...      222.16      221.15       221.4]\n",
            "[     279.78      279.81       279.7 ...       180.8      179.97      180.18]\n",
            "[     358.51      358.53      358.44 ...      213.44      212.42      212.68]\n",
            "[     298.74      298.73      298.76 ...      210.06      209.09      209.33]\n",
            "[     263.64      263.65       263.6 ...      211.24      210.26      210.51]\n",
            "[     318.51      318.52      318.47 ...      212.64       211.7      211.94]\n",
            "[     285.89      285.92       285.8 ...      179.42       178.6      178.81]\n",
            "[     346.32      346.34      346.25 ...      172.56      171.78      171.97]\n",
            "[     358.91      358.92       358.9 ...       170.3      169.57      169.75]\n",
            "[     330.23      330.26      330.14 ...      172.76      172.01       172.2]\n",
            "[     305.25      305.28      305.16 ...      206.99      206.01      206.26]\n",
            "[     313.79      313.82      313.71 ...      189.68      188.78      189.01]\n",
            "[     300.67       300.7      300.59 ...      264.73      263.49       263.8]\n",
            "[     298.39      298.39      298.39 ...      179.92       179.1      179.31]\n",
            "[      305.4      305.43      305.32 ...      244.01      242.75      243.07]\n",
            "[     328.63      328.63      328.64 ...      227.52      226.35      226.65]\n",
            "[     321.49      321.47      321.52 ...      175.38       174.5      174.72]\n",
            "[     303.71      303.71      303.74 ...      201.36      200.29      200.56]\n",
            "[     328.19      328.17      328.24 ...      190.77      189.75      190.01]\n",
            "[     400.48      400.46      400.55 ...      184.52      183.56       183.8]\n",
            "[     320.15      320.13       320.2 ...         201      199.87      200.15]\n",
            "[     295.63       295.6      295.71 ...      171.99       171.1      171.32]\n",
            "[     397.13      397.11      397.16 ...      129.04      128.37      128.53]\n",
            "[     372.22      372.21      372.25 ...      111.27      110.64       110.8]\n",
            "[     372.82      372.79      372.91 ...      161.66      160.81      161.02]\n",
            "[     342.14      342.14      342.12 ...      187.07      186.12      186.36]\n",
            "[     317.44      317.42      317.51 ...       167.9      167.07      167.28]\n",
            "[     343.62      343.63      343.59 ...      141.01       140.3      140.48]\n",
            "[     396.39      396.38      396.42 ...      165.97      165.12      165.34]\n",
            "[      409.8      409.78      409.85 ...      147.24      146.52       146.7]\n",
            "[      318.8      318.77       318.9 ...      168.77      167.91      168.13]\n",
            "[     308.92       308.9      308.98 ...      138.55       137.9      138.06]\n",
            "[     344.01      343.98       344.1 ...      136.56      135.92      136.08]\n",
            "[     338.67      338.66       338.7 ...      155.22      154.47      154.66]\n",
            "[     322.62      322.59      322.71 ...      134.94      134.26      134.43]\n",
            "[     344.19      344.17      344.23 ...      151.87      151.13      151.32]\n",
            "[     350.87      350.85      350.94 ...      115.97      115.35      115.51]\n",
            "[     322.07      322.08      322.05 ...      118.68      118.03       118.2]\n",
            "[     347.78      347.79      347.77 ...      174.79      173.92      174.14]\n",
            "[     344.32      344.33      344.29 ...      141.04      140.46      140.61]\n",
            "[      366.8      366.82      366.75 ...      138.84      138.14      138.31]\n",
            "[     331.61      331.61      331.58 ...       173.8      172.75      173.01]\n",
            "[      337.8      337.85      337.66 ...       180.6      179.72      179.94]\n",
            "[     341.21      341.24      341.12 ...      184.09      183.23      183.44]\n",
            "[     317.86      317.88      317.83 ...      193.05      192.14      192.37]\n",
            "[     304.09      304.09       304.1 ...      175.32      174.51      174.72]\n",
            "[        314      314.02      313.92 ...      202.75      201.78      202.02]\n",
            "[      260.6      260.64      260.49 ...      186.29      185.38      185.61]\n",
            "[     317.19      317.23      317.08 ...      168.06       167.2      167.41]\n",
            "[     293.54      293.56      293.48 ...      161.22      160.42      160.62]\n",
            "[     305.63      305.65      305.57 ...      178.63      177.66      177.91]\n",
            "[     326.08      326.09      326.07 ...      193.53      192.53      192.78]\n",
            "[     307.35      307.36      307.31 ...       143.4      142.63      142.83]\n",
            "[      291.5      291.51      291.47 ...      152.19      151.27       151.5]\n",
            "[     322.27      322.28      322.26 ...      183.54      182.54      182.79]\n",
            "[     273.21      273.23      273.14 ...      186.48      185.51      185.76]\n",
            "[     336.34      336.35      336.31 ...      197.81      196.73         197]\n",
            "[     352.25      352.27      352.19 ...      233.68       232.5      232.79]\n",
            "[     335.29      335.32      335.19 ...      207.48      206.33      206.62]\n",
            "[     298.84      298.88      298.73 ...      188.42      187.37      187.63]\n",
            "[     367.75       367.8      367.62 ...       207.3      206.19      206.47]\n",
            "[     283.46      283.52      283.31 ...      194.71      193.63       193.9]\n",
            "[     266.45      266.48      266.35 ...      211.01      209.58      209.94]\n",
            "[     403.24      403.24      403.25 ...      170.67      169.73      169.97]\n",
            "[      311.6       311.6       311.6 ...      191.36      190.32      190.58]\n",
            "[     339.36      339.37      339.34 ...      176.61      175.65      175.89]\n",
            "[      287.8       287.8      287.78 ...      225.88      224.43      224.79]\n",
            "[      370.3      370.29      370.34 ...      164.45      163.44       163.7]\n",
            "[     291.45      291.43       291.5 ...      187.49      186.41      186.68]\n",
            "[     307.67      307.67      307.67 ...      234.59      233.51      233.78]\n",
            "[     273.54      273.55       273.5 ...      152.41       151.7      151.88]\n",
            "[     270.43      270.44      270.39 ...      183.02      182.17      182.38]\n",
            "[     270.64      270.65      270.59 ...      218.59      217.56      217.82]\n",
            "[     278.78      278.78      278.78 ...      248.32      247.15      247.44]\n",
            "[     281.28       281.3      281.24 ...      155.34      154.64      154.82]\n",
            "[     329.98      329.98      329.98 ...      169.63      168.88      169.07]\n",
            "[     265.49       265.5      265.49 ...      192.33      191.49       191.7]\n",
            "[     240.88      240.87       240.9 ...      165.22      164.51      164.69]\n",
            "[     223.68      223.67      223.71 ...      174.59      173.76      173.97]\n",
            "[     330.54      330.54      330.55 ...      125.98      125.41      125.55]\n",
            "[     306.17      306.16      306.19 ...      129.19      128.58      128.74]\n",
            "[     314.52       314.5      314.58 ...      151.68         151      151.17]\n",
            "[     324.48      324.48      324.48 ...      149.27      148.59      148.76]\n",
            "[     345.27      345.27      345.25 ...      129.07      128.48      128.63]\n",
            "[     328.94      328.95      328.89 ...      123.46      122.89      123.03]\n",
            "[     309.76      309.78      309.73 ...      154.38      153.66      153.84]\n",
            "[     291.79       291.8      291.76 ...      152.55      151.87      152.04]\n",
            "[     340.89      340.91      340.83 ...      133.06      132.46      132.61]\n",
            "[     369.44      369.45      369.39 ...      149.48      148.79      148.96]\n",
            "[      408.9       408.9      408.89 ...      158.64      157.83      158.03]\n",
            "[     409.81      409.81      409.78 ...      131.59       130.9      131.07]\n",
            "[     375.87      375.87      375.86 ...      193.72      192.74      192.98]\n",
            "[     308.98      309.01       308.9 ...       134.7      133.96      134.14]\n",
            "[      339.5      339.53      339.42 ...      138.53      137.75      137.94]\n",
            "[     330.45      330.48      330.36 ...      132.53       131.7      131.91]\n",
            "[     379.98      380.02      379.85 ...      178.36      177.33      177.59]\n",
            "[      316.5      316.54      316.38 ...      154.44      153.45       153.7]\n",
            "[     324.46       324.5      324.35 ...       187.4      186.23      186.52]\n",
            "[     390.15      390.18      390.06 ...      153.42      152.47      152.71]\n",
            "[     292.24      292.26      292.15 ...       186.4      185.33       185.6]\n",
            "[     307.95      307.98      307.87 ...       188.2      187.22      187.47]\n",
            "[     279.79      279.82      279.71 ...       178.2      177.19      177.44]\n",
            "[     356.66      356.69      356.58 ...         156      155.19      155.39]\n",
            "[     297.47      297.49       297.4 ...      161.69       160.8      161.02]\n",
            "[     302.28       302.3      302.24 ...      137.11      136.35      136.54]\n",
            "[     382.57      382.59       382.5 ...      107.18      106.61      106.76]\n",
            "[     360.94      360.96      360.88 ...      111.86      111.26      111.41]\n",
            "[     324.33      324.34      324.28 ...      115.67      115.05       115.2]\n",
            "[     301.36      301.37      301.33 ...      142.57      141.79      141.99]\n",
            "[     301.78      301.79      301.73 ...      122.41      121.75      121.92]\n",
            "[     320.52      320.54      320.46 ...       163.5      162.69       162.9]\n",
            "[     327.82      327.83      327.76 ...      127.35      126.73      126.88]\n",
            "[     300.99      301.01      300.94 ...      170.64      169.78      169.99]\n",
            "[     337.18       337.2      337.14 ...      225.83      224.69      224.98]\n",
            "[     342.59       342.6      342.56 ...      213.34      212.29      212.55]\n",
            "[     326.58      326.59      326.52 ...      233.27      232.18      232.45]\n",
            "[     350.22      350.23      350.18 ...      173.87      173.04      173.25]\n",
            "[        324         324      323.98 ...      205.64      204.66      204.91]\n",
            "[     324.88      324.88      324.87 ...      194.41      193.45      193.69]\n",
            "[      346.6      346.61      346.55 ...      149.94      149.23      149.41]\n",
            "[     321.84      321.86      321.79 ...      137.17      136.52      136.68]\n",
            "[     351.22      351.23       351.2 ...      155.28      154.53      154.72]\n",
            "[     297.43      297.43      297.42 ...      170.24      169.44      169.64]\n",
            "[     321.97      321.99      321.91 ...      141.84      141.16      141.33]\n",
            "[     341.04      341.06         341 ...      132.49      131.84      132.01]\n",
            "[     315.19      315.19      315.19 ...      149.01      148.29      148.47]\n",
            "[     258.59       258.6      258.56 ...      151.79      150.97      151.18]\n",
            "[     313.43      313.43      313.42 ...      162.31      161.36       161.6]\n",
            "[     234.25      234.26      234.24 ...      141.77      141.02      141.21]\n",
            "[     337.85      337.87       337.8 ...      183.56       182.6      182.84]\n",
            "[     323.47      323.49      323.42 ...      166.68      165.63      165.89]\n",
            "[     317.19       317.2      317.16 ...      148.02       147.3      147.48]\n",
            "[     298.09       298.1      298.07 ...      165.55      164.79      164.98]\n",
            "[     312.01      312.02      311.98 ...      148.77      148.08      148.25]\n",
            "[     320.93      320.95      320.86 ...      162.78       161.9      162.12]\n",
            "[      292.4      292.42      292.34 ...      142.78      142.06      142.24]\n",
            "[      258.3      258.32      258.24 ...      182.39      181.54      181.75]\n",
            "[     311.08       311.1      311.01 ...         141      140.36      140.52]\n",
            "[     290.69       290.7      290.65 ...      155.59      154.85      155.03]\n",
            "[     394.98         395      394.92 ...      141.26      140.66      140.81]\n",
            "[     387.21      387.22      387.17 ...      135.03      134.42      134.57]\n",
            "[     347.89       347.9      347.86 ...      113.12      112.62      112.75]\n",
            "[     445.58       445.6      445.55 ...      121.87       121.3      121.45]\n",
            "[     411.08      411.11      411.01 ...      125.42      124.86         125]\n",
            "[     359.07      359.09      359.01 ...      135.08      134.49      134.64]\n",
            "[     326.99         327      326.97 ...      126.66      126.12      126.25]\n",
            "[     313.02      313.04      312.98 ...      129.95      129.41      129.55]\n",
            "[     330.72      330.73      330.69 ...      131.67      131.07      131.22]\n",
            "[     328.04      328.04      328.02 ...      149.22      148.56      148.72]\n",
            "[     338.56      338.56      338.57 ...      112.22      111.74      111.86]\n",
            "[     312.79      312.76      312.87 ...      173.51      172.73      172.93]\n",
            "[     338.95      338.94      338.98 ...         122      121.49      121.62]\n",
            "[     330.29      330.31      330.26 ...       170.4      169.66      169.84]\n",
            "[     314.25      314.24      314.28 ...      151.31      150.63       150.8]\n",
            "[     285.08      285.06      285.11 ...      151.31      150.65      150.81]\n",
            "[     206.11      206.14      206.04 ...      188.99      188.16      188.37]\n",
            "[     222.94      222.96      222.88 ...      163.33      162.61      162.79]\n",
            "[     223.29      223.33      223.17 ...      208.53       207.6      207.84]\n",
            "[     196.15      196.21      195.98 ...      206.73      205.79      206.03]\n",
            "[     217.78       217.8      217.72 ...      177.85      177.03      177.24]\n",
            "[     141.65      141.77      141.31 ...       186.6      185.74      185.96]\n",
            "[     39.139      39.125       39.18 ...      171.07      170.18       170.4]\n",
            "[     116.32      116.37      116.19 ...      165.39      164.61      164.81]\n",
            "[     146.94      147.01      146.72 ...      147.82      147.08      147.27]\n",
            "[     159.32      159.38      159.13 ...      112.48      111.94      112.08]\n",
            "[     172.38      172.46      172.15 ...       120.4      119.84      119.98]\n",
            "[     190.91      190.99      190.68 ...      129.08      128.52      128.66]\n",
            "[     147.67      147.71      147.55 ...      161.69         161      161.18]\n",
            "[     227.04       227.1      226.84 ...      121.36      120.85      120.98]\n",
            "[     156.71      156.78       156.5 ...      101.14       100.7      100.81]\n",
            "[     168.83      168.86      168.72 ...      123.17      122.62      122.76]\n",
            "[     146.23      146.36      145.85 ...      125.16       124.6      124.74]\n",
            "[     208.46      208.46      208.46 ...      141.45      140.76      140.94]\n",
            "[     203.39      203.39      203.39 ...      99.259       98.74       98.87]\n",
            "[     232.75      232.72      232.84 ...      110.58         110      110.14]\n",
            "[     166.14      166.14      166.14 ...      95.973      95.498      95.618]\n",
            "[     207.07      207.05      207.13 ...      85.608      85.194      85.298]\n",
            "[      233.3       233.3      233.31 ...      100.68       100.2      100.32]\n",
            "[     247.55      247.56      247.53 ...      128.85      128.09      128.28]\n",
            "[     275.56      275.57      275.53 ...      83.021      82.604      82.709]\n",
            "[     245.28      245.28      245.28 ...      105.13      104.58      104.72]\n",
            "[     273.78      273.79      273.75 ...      105.29      104.79      104.92]\n",
            "[     296.53      296.54      296.49 ...         127       126.4      126.55]\n",
            "[     230.88       230.9      230.81 ...      112.56      112.05      112.18]\n",
            "[     332.61      332.63      332.56 ...      110.95      110.47      110.59]\n",
            "[     236.08      236.11      236.01 ...      127.98      127.35      127.51]\n",
            "[     239.22      239.24      239.17 ...      137.99      137.29      137.47]\n",
            "[     251.56      251.58      251.51 ...      118.73      118.08      118.24]\n",
            "[     249.73      249.74       249.7 ...      153.85      152.94      153.17]\n",
            "[     222.38      222.39      222.36 ...      157.55       156.7      156.92]\n",
            "[      268.2      268.21      268.17 ...      125.15      124.52      124.68]\n",
            "[      248.2      248.23      248.09 ...       241.7      240.56      240.84]\n",
            "[     151.07      151.09      151.02 ...      156.29       155.6      155.77]\n",
            "[     177.31      177.35       177.2 ...      207.51      206.54      206.78]\n",
            "[     246.53      246.55      246.47 ...      174.61      173.82      174.02]\n",
            "[     255.05      255.05      255.03 ...      174.92      174.14      174.34]\n",
            "[     204.52      204.54      204.48 ...      125.38      124.82      124.96]\n",
            "[     157.86      157.87      157.81 ...      194.12      193.24      193.46]\n",
            "[     138.92      138.94      138.86 ...      209.93      209.01      209.24]\n",
            "[     218.42      218.44      218.37 ...      147.14      146.43      146.61]\n",
            "[     275.48       275.5       275.4 ...      121.36      120.74       120.9]\n",
            "[     244.11      244.12      244.11 ...      116.44      115.89      116.03]\n",
            "[     231.19       231.2      231.15 ...      157.24      156.41      156.62]\n",
            "[     292.53      292.53      292.54 ...      171.17       170.3      170.52]\n",
            "[     200.42      200.42      200.43 ...      149.12      148.34      148.53]\n",
            "[     205.36      205.38      205.31 ...      118.68      118.05      118.21]\n",
            "[     235.16      235.16      235.17 ...      99.997      99.482      99.611]\n",
            "[     258.14      258.13      258.15 ...      96.287      95.832      95.946]\n",
            "[     276.44      276.41      276.51 ...      86.595      86.157      86.267]\n",
            "[      286.3      286.28      286.34 ...      121.07      120.48      120.62]\n",
            "[     267.19      267.18      267.24 ...       135.6      134.99      135.14]\n",
            "[     233.31      233.33      233.27 ...      103.54      103.04      103.17]\n",
            "[     253.33      253.35      253.26 ...      119.74      119.17      119.31]\n",
            "[     277.82      277.89      277.61 ...       93.69      93.208      93.329]\n",
            "[     270.27      270.32      270.14 ...      119.84      119.24      119.39]\n",
            "[     309.25      309.29      309.12 ...      87.474      87.073      87.174]\n",
            "[     267.88      267.92      267.77 ...      102.55       102.1      102.21]\n",
            "[     357.52      357.55      357.45 ...      85.085      84.677       84.78]\n",
            "[     380.24      380.28      380.11 ...      87.174       86.83      86.916]\n",
            "[     286.64      286.67      286.57 ...      126.28      125.66      125.81]\n",
            "[     281.56      281.58      281.49 ...      125.39      124.77      124.93]\n",
            "[     292.34      292.37      292.27 ...      123.34      122.74      122.89]\n"
          ]
        }
      ]
    },
    {
      "cell_type": "code",
      "source": [
        "import cv2\n",
        "import torch\n",
        "import numpy as np\n",
        "import time\n",
        "\n",
        "# YOLO configuration and weights paths\n",
        "config_path = \"yolo_config.cfg\"\n",
        "weights_path = \"yolo_weights.weights\"\n",
        "\n",
        "# Path to the image file\n",
        "image_path = \"C:\\\\Users\\\\HP\\\\Desktop\\\\DepthNet\\\\image.jpg\"\n",
        "\n",
        "# Model type to use for depth estimation\n",
        "model_type = \"MiDaS_small\"\n",
        "\n",
        "# Load YOLO model\n",
        "net = cv2.dnn.readNetFromDarknet(config_path, weights_path)\n",
        "\n",
        "# Load the Midas model\n",
        "midas = torch.hub.load(\"intel-isl/Midas\", model_type)\n",
        "midas_transforms = torch.hub.load(\"intel-isl/MiDaS\", \"transforms\")\n",
        "device = torch.device(\"cuda\" if torch.cuda.is_available() else \"cpu\")\n",
        "\n",
        "# Choose the appropriate transform based on the model type\n",
        "if model_type == \"DPT_Large\" or model_type == \"DPT_Hybrid\":\n",
        "    transform = midas_transforms.dpt_transform\n",
        "else:\n",
        "    transform = midas_transforms.small_transform\n",
        "\n",
        "# Load the image\n",
        "image = cv2.imread(image_path)\n",
        "\n",
        "# Obtain the bounding box detections using YOLO\n",
        "blob = cv2.dnn.blobFromImage(image, 1 / 255, (416, 416), swapRB=True, crop=False)\n",
        "net.setInput(blob)\n",
        "layer_names = net.getLayerNames()\n",
        "output_layers = [layer_names[i[0] - 1] for i in net.getUnconnectedOutLayers()]\n",
        "outs = net.forward(output_layers)\n",
        "\n",
        "# Process each detected object\n",
        "for detection in outs:\n",
        "    for obj in detection:\n",
        "        scores = obj[5:]\n",
        "        class_id = np.argmax(scores)\n",
        "        confidence = scores[class_id]\n",
        "\n",
        "        # Filter objects by confidence threshold\n",
        "        if confidence > 0.5:\n",
        "            center_x = int(obj[0] * image.shape[1])\n",
        "            center_y = int(obj[1] * image.shape[0])\n",
        "            width = int(obj[2] * image.shape[1])\n",
        "            height = int(obj[3] * image.shape[0])\n",
        "\n",
        "            # Extract object region of interest (ROI)\n",
        "            x = int(center_x - width / 2)\n",
        "            y = int(center_y - height / 2)\n",
        "            roi = image[y:y + height, x:x + width]\n",
        "\n",
        "            # Process the ROI for depth estimation\n",
        "            start = time.time()\n",
        "            roi = cv2.cvtColor(roi, cv2.COLOR_BGR2RGB)\n",
        "            input_batch = transform(roi).to(device)\n",
        "\n",
        "            with torch.no_grad():\n",
        "                prediction = midas(input_batch)\n",
        "\n",
        "                prediction = torch.nn.functional.interpolate(\n",
        "                    prediction.unsqueeze(1),\n",
        "                    size=roi.shape[:2],\n",
        "                    mode=\"bicubic\",\n",
        "                    align_corners=False,\n",
        "                ).squeeze()\n",
        "\n",
        "            depth_map = prediction.cpu().numpy()\n",
        "\n",
        "            depth_map = cv2.normalize(depth_map, None, 0, 1, norm_type=cv2.NORM_MINMAX, dtype=cv2.CV_64F)\n",
        "\n",
        "            end = time.time()\n",
        "            totalTime = end - start\n",
        "\n",
        "            fps = 1 / totalTime\n",
        "\n",
        "            depth_map = (depth_map * 255).astype(np.uint8)\n",
        "            depth_map = cv2.applyColorMap(depth_map, cv2.COLORMAP_MAGMA)\n",
        "            cv2.putText(roi, f'FPS: {int(fps)}', (20, 70), cv2.FONT_HERSHEY_SIMPLEX, 1.5, (0, 255, 0), 2)\n",
        "\n",
        "            # Display the ROI with depth map\n",
        "            cv2.imshow(\"ROI\", roi)\n",
        "            cv2.imshow(\"Depth Map\", depth_map)\n",
        "            cv2.waitKey(0)\n",
        "\n",
        "cv2.destroyAllWindows()\n"
      ],
      "metadata": {
        "id": "msB3GaAMPJQi"
      },
      "execution_count": null,
      "outputs": []
    }
  ],
  "metadata": {
    "accelerator": "GPU",
    "colab": {
      "provenance": []
    },
    "kernelspec": {
      "display_name": "Python 3",
      "name": "python3"
    },
    "language_info": {
      "name": "python"
    }
  },
  "nbformat": 4,
  "nbformat_minor": 0
}